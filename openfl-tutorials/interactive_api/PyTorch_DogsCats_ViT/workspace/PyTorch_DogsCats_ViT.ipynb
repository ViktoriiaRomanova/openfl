{
 "cells": [
  {
   "cell_type": "markdown",
   "metadata": {},
   "source": [
    "# Visual Transformer + OpenFL for Dogs & Cats classification"
   ]
  },
  {
   "cell_type": "code",
   "execution_count": 1,
   "metadata": {},
   "outputs": [
    {
     "name": "stdout",
     "output_type": "stream",
     "text": [
      "Looking in indexes: http://proxypip-icv.inn.intel.com:8088/root/pypi/+simple/\n",
      "Requirement already satisfied: absl-py==1.0.0 in /home/viktorii/.virtualenvs/add_scheduler_v2/lib/python3.8/site-packages (from -r requirements.txt (line 1)) (1.0.0)\n",
      "Requirement already satisfied: argon2-cffi==21.3.0 in /home/viktorii/.virtualenvs/add_scheduler_v2/lib/python3.8/site-packages (from -r requirements.txt (line 2)) (21.3.0)\n",
      "Requirement already satisfied: argon2-cffi-bindings==21.2.0 in /home/viktorii/.virtualenvs/add_scheduler_v2/lib/python3.8/site-packages (from -r requirements.txt (line 3)) (21.2.0)\n",
      "Requirement already satisfied: asttokens==2.0.5 in /home/viktorii/.virtualenvs/add_scheduler_v2/lib/python3.8/site-packages (from -r requirements.txt (line 4)) (2.0.5)\n",
      "Requirement already satisfied: attrs==21.4.0 in /home/viktorii/.virtualenvs/add_scheduler_v2/lib/python3.8/site-packages (from -r requirements.txt (line 5)) (21.4.0)\n",
      "Requirement already satisfied: backcall==0.2.0 in /home/viktorii/.virtualenvs/add_scheduler_v2/lib/python3.8/site-packages (from -r requirements.txt (line 6)) (0.2.0)\n",
      "Requirement already satisfied: black==21.12b0 in /home/viktorii/.virtualenvs/add_scheduler_v2/lib/python3.8/site-packages (from -r requirements.txt (line 7)) (21.12b0)\n",
      "Requirement already satisfied: bleach==4.1.0 in /home/viktorii/.virtualenvs/add_scheduler_v2/lib/python3.8/site-packages (from -r requirements.txt (line 8)) (4.1.0)\n",
      "Requirement already satisfied: cachetools==5.0.0 in /home/viktorii/.virtualenvs/add_scheduler_v2/lib/python3.8/site-packages (from -r requirements.txt (line 9)) (5.0.0)\n",
      "Requirement already satisfied: certifi==2021.10.8 in /home/viktorii/.virtualenvs/add_scheduler_v2/lib/python3.8/site-packages (from -r requirements.txt (line 10)) (2021.10.8)\n",
      "Requirement already satisfied: cffi==1.15.0 in /home/viktorii/.virtualenvs/add_scheduler_v2/lib/python3.8/site-packages (from -r requirements.txt (line 11)) (1.15.0)\n",
      "Requirement already satisfied: charset-normalizer==2.0.10 in /home/viktorii/.virtualenvs/add_scheduler_v2/lib/python3.8/site-packages (from -r requirements.txt (line 12)) (2.0.10)\n",
      "Requirement already satisfied: click==8.0.1 in /home/viktorii/.virtualenvs/add_scheduler_v2/lib/python3.8/site-packages (from -r requirements.txt (line 13)) (8.0.1)\n",
      "Requirement already satisfied: cloudpickle==2.0.0 in /home/viktorii/.virtualenvs/add_scheduler_v2/lib/python3.8/site-packages (from -r requirements.txt (line 14)) (2.0.0)\n",
      "Requirement already satisfied: colorama==0.4.4 in /home/viktorii/.virtualenvs/add_scheduler_v2/lib/python3.8/site-packages (from -r requirements.txt (line 15)) (0.4.4)\n",
      "Requirement already satisfied: commonmark==0.9.1 in /home/viktorii/.virtualenvs/add_scheduler_v2/lib/python3.8/site-packages (from -r requirements.txt (line 16)) (0.9.1)\n",
      "Requirement already satisfied: cryptography==36.0.1 in /home/viktorii/.virtualenvs/add_scheduler_v2/lib/python3.8/site-packages (from -r requirements.txt (line 17)) (36.0.1)\n",
      "Requirement already satisfied: debugpy==1.5.1 in /home/viktorii/.virtualenvs/add_scheduler_v2/lib/python3.8/site-packages (from -r requirements.txt (line 18)) (1.5.1)\n",
      "Requirement already satisfied: decorator==5.1.1 in /home/viktorii/.virtualenvs/add_scheduler_v2/lib/python3.8/site-packages (from -r requirements.txt (line 19)) (5.1.1)\n",
      "Requirement already satisfied: defusedxml==0.7.1 in /home/viktorii/.virtualenvs/add_scheduler_v2/lib/python3.8/site-packages (from -r requirements.txt (line 20)) (0.7.1)\n",
      "Requirement already satisfied: docker==5.0.3 in /home/viktorii/.virtualenvs/add_scheduler_v2/lib/python3.8/site-packages (from -r requirements.txt (line 21)) (5.0.3)\n",
      "Requirement already satisfied: einops==0.4.0 in /home/viktorii/.virtualenvs/add_scheduler_v2/lib/python3.8/site-packages (from -r requirements.txt (line 22)) (0.4.0)\n",
      "Requirement already satisfied: entrypoints==0.3 in /home/viktorii/.virtualenvs/add_scheduler_v2/lib/python3.8/site-packages (from -r requirements.txt (line 23)) (0.3)\n",
      "Requirement already satisfied: executing==0.8.2 in /home/viktorii/.virtualenvs/add_scheduler_v2/lib/python3.8/site-packages (from -r requirements.txt (line 24)) (0.8.2)\n",
      "Requirement already satisfied: flatten-json==0.1.13 in /home/viktorii/.virtualenvs/add_scheduler_v2/lib/python3.8/site-packages (from -r requirements.txt (line 25)) (0.1.13)\n",
      "Requirement already satisfied: google-auth==2.5.0 in /home/viktorii/.virtualenvs/add_scheduler_v2/lib/python3.8/site-packages (from -r requirements.txt (line 26)) (2.5.0)\n",
      "Requirement already satisfied: google-auth-oauthlib==0.4.6 in /home/viktorii/.virtualenvs/add_scheduler_v2/lib/python3.8/site-packages (from -r requirements.txt (line 27)) (0.4.6)\n",
      "Requirement already satisfied: grpcio==1.34.1 in /home/viktorii/.virtualenvs/add_scheduler_v2/lib/python3.8/site-packages (from -r requirements.txt (line 28)) (1.34.1)\n",
      "Requirement already satisfied: grpcio-tools==1.34.1 in /home/viktorii/.virtualenvs/add_scheduler_v2/lib/python3.8/site-packages (from -r requirements.txt (line 29)) (1.34.1)\n",
      "Requirement already satisfied: idna==3.3 in /home/viktorii/.virtualenvs/add_scheduler_v2/lib/python3.8/site-packages (from -r requirements.txt (line 30)) (3.3)\n",
      "Requirement already satisfied: importlib-metadata==4.10.1 in /home/viktorii/.virtualenvs/add_scheduler_v2/lib/python3.8/site-packages (from -r requirements.txt (line 31)) (4.10.1)\n",
      "Requirement already satisfied: importlib-resources==5.4.0 in /home/viktorii/.virtualenvs/add_scheduler_v2/lib/python3.8/site-packages (from -r requirements.txt (line 32)) (5.4.0)\n",
      "Requirement already satisfied: ipykernel==6.7.0 in /home/viktorii/.virtualenvs/add_scheduler_v2/lib/python3.8/site-packages (from -r requirements.txt (line 33)) (6.7.0)\n",
      "Requirement already satisfied: ipython==8.0.1 in /home/viktorii/.virtualenvs/add_scheduler_v2/lib/python3.8/site-packages (from -r requirements.txt (line 34)) (8.0.1)\n",
      "Requirement already satisfied: ipython-genutils==0.2.0 in /home/viktorii/.virtualenvs/add_scheduler_v2/lib/python3.8/site-packages (from -r requirements.txt (line 35)) (0.2.0)\n",
      "Requirement already satisfied: ipywidgets==7.6.5 in /home/viktorii/.virtualenvs/add_scheduler_v2/lib/python3.8/site-packages (from -r requirements.txt (line 36)) (7.6.5)\n",
      "Requirement already satisfied: jedi==0.18.1 in /home/viktorii/.virtualenvs/add_scheduler_v2/lib/python3.8/site-packages (from -r requirements.txt (line 37)) (0.18.1)\n",
      "Requirement already satisfied: Jinja2==3.0.3 in /home/viktorii/.virtualenvs/add_scheduler_v2/lib/python3.8/site-packages (from -r requirements.txt (line 38)) (3.0.3)\n",
      "Requirement already satisfied: joblib==1.1.0 in /home/viktorii/.virtualenvs/add_scheduler_v2/lib/python3.8/site-packages (from -r requirements.txt (line 39)) (1.1.0)\n",
      "Requirement already satisfied: jsonschema==4.4.0 in /home/viktorii/.virtualenvs/add_scheduler_v2/lib/python3.8/site-packages (from -r requirements.txt (line 40)) (4.4.0)\n",
      "Requirement already satisfied: jupyter==1.0.0 in /home/viktorii/.virtualenvs/add_scheduler_v2/lib/python3.8/site-packages (from -r requirements.txt (line 41)) (1.0.0)\n",
      "Requirement already satisfied: jupyter-client==7.1.2 in /home/viktorii/.virtualenvs/add_scheduler_v2/lib/python3.8/site-packages (from -r requirements.txt (line 42)) (7.1.2)\n",
      "Requirement already satisfied: jupyter-console==6.4.0 in /home/viktorii/.virtualenvs/add_scheduler_v2/lib/python3.8/site-packages (from -r requirements.txt (line 43)) (6.4.0)\n",
      "Requirement already satisfied: jupyter-core==4.9.1 in /home/viktorii/.virtualenvs/add_scheduler_v2/lib/python3.8/site-packages (from -r requirements.txt (line 44)) (4.9.1)\n",
      "Requirement already satisfied: jupyterlab-pygments==0.1.2 in /home/viktorii/.virtualenvs/add_scheduler_v2/lib/python3.8/site-packages (from -r requirements.txt (line 45)) (0.1.2)\n",
      "Requirement already satisfied: jupyterlab-widgets==1.0.2 in /home/viktorii/.virtualenvs/add_scheduler_v2/lib/python3.8/site-packages (from -r requirements.txt (line 46)) (1.0.2)\n",
      "Requirement already satisfied: kaggle==1.5.12 in /home/viktorii/.virtualenvs/add_scheduler_v2/lib/python3.8/site-packages (from -r requirements.txt (line 47)) (1.5.12)\n",
      "Requirement already satisfied: linformer==0.2.1 in /home/viktorii/.virtualenvs/add_scheduler_v2/lib/python3.8/site-packages (from -r requirements.txt (line 48)) (0.2.1)\n",
      "Requirement already satisfied: Markdown==3.3.6 in /home/viktorii/.virtualenvs/add_scheduler_v2/lib/python3.8/site-packages (from -r requirements.txt (line 49)) (3.3.6)\n",
      "Requirement already satisfied: MarkupSafe==2.0.1 in /home/viktorii/.virtualenvs/add_scheduler_v2/lib/python3.8/site-packages (from -r requirements.txt (line 50)) (2.0.1)\n",
      "Requirement already satisfied: matplotlib-inline==0.1.3 in /home/viktorii/.virtualenvs/add_scheduler_v2/lib/python3.8/site-packages (from -r requirements.txt (line 51)) (0.1.3)\n",
      "Requirement already satisfied: mistune==0.8.4 in /home/viktorii/.virtualenvs/add_scheduler_v2/lib/python3.8/site-packages (from -r requirements.txt (line 52)) (0.8.4)\n",
      "Requirement already satisfied: mypy-extensions==0.4.3 in /home/viktorii/.virtualenvs/add_scheduler_v2/lib/python3.8/site-packages (from -r requirements.txt (line 53)) (0.4.3)\n",
      "Requirement already satisfied: nbclient==0.5.10 in /home/viktorii/.virtualenvs/add_scheduler_v2/lib/python3.8/site-packages (from -r requirements.txt (line 54)) (0.5.10)\n",
      "Requirement already satisfied: nbconvert==6.4.1 in /home/viktorii/.virtualenvs/add_scheduler_v2/lib/python3.8/site-packages (from -r requirements.txt (line 55)) (6.4.1)\n",
      "Requirement already satisfied: nbformat==5.1.3 in /home/viktorii/.virtualenvs/add_scheduler_v2/lib/python3.8/site-packages (from -r requirements.txt (line 56)) (5.1.3)\n",
      "Requirement already satisfied: nest-asyncio==1.5.4 in /home/viktorii/.virtualenvs/add_scheduler_v2/lib/python3.8/site-packages (from -r requirements.txt (line 57)) (1.5.4)\n",
      "Requirement already satisfied: notebook==6.4.8 in /home/viktorii/.virtualenvs/add_scheduler_v2/lib/python3.8/site-packages (from -r requirements.txt (line 58)) (6.4.8)\n",
      "Requirement already satisfied: numpy==1.22.1 in /home/viktorii/.virtualenvs/add_scheduler_v2/lib/python3.8/site-packages (from -r requirements.txt (line 59)) (1.22.1)\n",
      "Requirement already satisfied: oauthlib==3.1.1 in /home/viktorii/.virtualenvs/add_scheduler_v2/lib/python3.8/site-packages (from -r requirements.txt (line 60)) (3.1.1)\n",
      "Requirement already satisfied: packaging==21.3 in /home/viktorii/.virtualenvs/add_scheduler_v2/lib/python3.8/site-packages (from -r requirements.txt (line 61)) (21.3)\n",
      "Requirement already satisfied: pandas==1.4.0 in /home/viktorii/.virtualenvs/add_scheduler_v2/lib/python3.8/site-packages (from -r requirements.txt (line 62)) (1.4.0)\n",
      "Requirement already satisfied: pandocfilters==1.5.0 in /home/viktorii/.virtualenvs/add_scheduler_v2/lib/python3.8/site-packages (from -r requirements.txt (line 63)) (1.5.0)\n",
      "Requirement already satisfied: parso==0.8.3 in /home/viktorii/.virtualenvs/add_scheduler_v2/lib/python3.8/site-packages (from -r requirements.txt (line 64)) (0.8.3)\n",
      "Requirement already satisfied: pathspec==0.9.0 in /home/viktorii/.virtualenvs/add_scheduler_v2/lib/python3.8/site-packages (from -r requirements.txt (line 65)) (0.9.0)\n",
      "Requirement already satisfied: pexpect==4.8.0 in /home/viktorii/.virtualenvs/add_scheduler_v2/lib/python3.8/site-packages (from -r requirements.txt (line 66)) (4.8.0)\n",
      "Requirement already satisfied: pickleshare==0.7.5 in /home/viktorii/.virtualenvs/add_scheduler_v2/lib/python3.8/site-packages (from -r requirements.txt (line 67)) (0.7.5)\n",
      "Requirement already satisfied: Pillow==9.0.0 in /home/viktorii/.virtualenvs/add_scheduler_v2/lib/python3.8/site-packages (from -r requirements.txt (line 68)) (9.0.0)\n",
      "Requirement already satisfied: pip==21.3.1 in /home/viktorii/.virtualenvs/add_scheduler_v2/lib/python3.8/site-packages (from -r requirements.txt (line 69)) (21.3.1)\n",
      "Requirement already satisfied: platformdirs==2.4.1 in /home/viktorii/.virtualenvs/add_scheduler_v2/lib/python3.8/site-packages (from -r requirements.txt (line 70)) (2.4.1)\n",
      "Requirement already satisfied: prometheus-client==0.13.0 in /home/viktorii/.virtualenvs/add_scheduler_v2/lib/python3.8/site-packages (from -r requirements.txt (line 71)) (0.13.0)\n",
      "Requirement already satisfied: prompt-toolkit==3.0.26 in /home/viktorii/.virtualenvs/add_scheduler_v2/lib/python3.8/site-packages (from -r requirements.txt (line 72)) (3.0.26)\n",
      "Requirement already satisfied: protobuf==3.19.3 in /home/viktorii/.virtualenvs/add_scheduler_v2/lib/python3.8/site-packages (from -r requirements.txt (line 73)) (3.19.3)\n",
      "Requirement already satisfied: ptyprocess==0.7.0 in /home/viktorii/.virtualenvs/add_scheduler_v2/lib/python3.8/site-packages (from -r requirements.txt (line 74)) (0.7.0)\n",
      "Requirement already satisfied: pure-eval==0.2.2 in /home/viktorii/.virtualenvs/add_scheduler_v2/lib/python3.8/site-packages (from -r requirements.txt (line 75)) (0.2.2)\n",
      "Requirement already satisfied: pyasn1==0.4.8 in /home/viktorii/.virtualenvs/add_scheduler_v2/lib/python3.8/site-packages (from -r requirements.txt (line 76)) (0.4.8)\n",
      "Requirement already satisfied: pyasn1-modules==0.2.8 in /home/viktorii/.virtualenvs/add_scheduler_v2/lib/python3.8/site-packages (from -r requirements.txt (line 77)) (0.2.8)\n",
      "Requirement already satisfied: pycparser==2.21 in /home/viktorii/.virtualenvs/add_scheduler_v2/lib/python3.8/site-packages (from -r requirements.txt (line 78)) (2.21)\n",
      "Requirement already satisfied: Pygments==2.11.2 in /home/viktorii/.virtualenvs/add_scheduler_v2/lib/python3.8/site-packages (from -r requirements.txt (line 79)) (2.11.2)\n",
      "Requirement already satisfied: pynvml==11.4.1 in /home/viktorii/.virtualenvs/add_scheduler_v2/lib/python3.8/site-packages (from -r requirements.txt (line 80)) (11.4.1)\n",
      "Requirement already satisfied: pyparsing==3.0.7 in /home/viktorii/.virtualenvs/add_scheduler_v2/lib/python3.8/site-packages (from -r requirements.txt (line 81)) (3.0.7)\n",
      "Requirement already satisfied: pyrsistent==0.18.1 in /home/viktorii/.virtualenvs/add_scheduler_v2/lib/python3.8/site-packages (from -r requirements.txt (line 82)) (0.18.1)\n",
      "Requirement already satisfied: python-dateutil==2.8.2 in /home/viktorii/.virtualenvs/add_scheduler_v2/lib/python3.8/site-packages (from -r requirements.txt (line 83)) (2.8.2)\n",
      "Requirement already satisfied: python-slugify==5.0.2 in /home/viktorii/.virtualenvs/add_scheduler_v2/lib/python3.8/site-packages (from -r requirements.txt (line 84)) (5.0.2)\n",
      "Requirement already satisfied: pytz==2021.3 in /home/viktorii/.virtualenvs/add_scheduler_v2/lib/python3.8/site-packages (from -r requirements.txt (line 85)) (2021.3)\n",
      "Requirement already satisfied: PyYAML==6.0 in /home/viktorii/.virtualenvs/add_scheduler_v2/lib/python3.8/site-packages (from -r requirements.txt (line 86)) (6.0)\n",
      "Requirement already satisfied: pyzmq==22.3.0 in /home/viktorii/.virtualenvs/add_scheduler_v2/lib/python3.8/site-packages (from -r requirements.txt (line 87)) (22.3.0)\n",
      "Requirement already satisfied: qtconsole==5.2.2 in /home/viktorii/.virtualenvs/add_scheduler_v2/lib/python3.8/site-packages (from -r requirements.txt (line 88)) (5.2.2)\n",
      "Requirement already satisfied: QtPy==2.0.0 in /home/viktorii/.virtualenvs/add_scheduler_v2/lib/python3.8/site-packages (from -r requirements.txt (line 89)) (2.0.0)\n",
      "Requirement already satisfied: requests==2.27.1 in /home/viktorii/.virtualenvs/add_scheduler_v2/lib/python3.8/site-packages (from -r requirements.txt (line 90)) (2.27.1)\n",
      "Requirement already satisfied: requests-oauthlib==1.3.0 in /home/viktorii/.virtualenvs/add_scheduler_v2/lib/python3.8/site-packages (from -r requirements.txt (line 91)) (1.3.0)\n",
      "Requirement already satisfied: rich==9.1.0 in /home/viktorii/.virtualenvs/add_scheduler_v2/lib/python3.8/site-packages (from -r requirements.txt (line 92)) (9.1.0)\n",
      "Requirement already satisfied: rsa==4.8 in /home/viktorii/.virtualenvs/add_scheduler_v2/lib/python3.8/site-packages (from -r requirements.txt (line 93)) (4.8)\n",
      "Requirement already satisfied: scikit-learn==1.0.2 in /home/viktorii/.virtualenvs/add_scheduler_v2/lib/python3.8/site-packages (from -r requirements.txt (line 94)) (1.0.2)\n",
      "Requirement already satisfied: scipy==1.7.3 in /home/viktorii/.virtualenvs/add_scheduler_v2/lib/python3.8/site-packages (from -r requirements.txt (line 95)) (1.7.3)\n",
      "Requirement already satisfied: Send2Trash==1.8.0 in /home/viktorii/.virtualenvs/add_scheduler_v2/lib/python3.8/site-packages (from -r requirements.txt (line 96)) (1.8.0)\n",
      "Requirement already satisfied: setuptools==60.2.0 in /home/viktorii/.virtualenvs/add_scheduler_v2/lib/python3.8/site-packages (from -r requirements.txt (line 97)) (60.2.0)\n",
      "Requirement already satisfied: six==1.16.0 in /home/viktorii/.virtualenvs/add_scheduler_v2/lib/python3.8/site-packages (from -r requirements.txt (line 98)) (1.16.0)\n",
      "Requirement already satisfied: stack-data==0.1.4 in /home/viktorii/.virtualenvs/add_scheduler_v2/lib/python3.8/site-packages (from -r requirements.txt (line 99)) (0.1.4)\n",
      "Requirement already satisfied: tensorboard==2.8.0 in /home/viktorii/.virtualenvs/add_scheduler_v2/lib/python3.8/site-packages (from -r requirements.txt (line 100)) (2.8.0)\n",
      "Requirement already satisfied: tensorboard-data-server==0.6.1 in /home/viktorii/.virtualenvs/add_scheduler_v2/lib/python3.8/site-packages (from -r requirements.txt (line 101)) (0.6.1)\n",
      "Requirement already satisfied: tensorboard-plugin-wit==1.8.1 in /home/viktorii/.virtualenvs/add_scheduler_v2/lib/python3.8/site-packages (from -r requirements.txt (line 102)) (1.8.1)\n",
      "Requirement already satisfied: tensorboardX==2.4.1 in /home/viktorii/.virtualenvs/add_scheduler_v2/lib/python3.8/site-packages (from -r requirements.txt (line 103)) (2.4.1)\n",
      "Requirement already satisfied: terminado==0.13.1 in /home/viktorii/.virtualenvs/add_scheduler_v2/lib/python3.8/site-packages (from -r requirements.txt (line 104)) (0.13.1)\n",
      "Requirement already satisfied: testpath==0.5.0 in /home/viktorii/.virtualenvs/add_scheduler_v2/lib/python3.8/site-packages (from -r requirements.txt (line 105)) (0.5.0)\n",
      "Requirement already satisfied: text-unidecode==1.3 in /home/viktorii/.virtualenvs/add_scheduler_v2/lib/python3.8/site-packages (from -r requirements.txt (line 106)) (1.3)\n",
      "Requirement already satisfied: threadpoolctl==3.0.0 in /home/viktorii/.virtualenvs/add_scheduler_v2/lib/python3.8/site-packages (from -r requirements.txt (line 107)) (3.0.0)\n",
      "Requirement already satisfied: tomli==1.2.3 in /home/viktorii/.virtualenvs/add_scheduler_v2/lib/python3.8/site-packages (from -r requirements.txt (line 108)) (1.2.3)\n",
      "Requirement already satisfied: torch==1.10.2 in /home/viktorii/.virtualenvs/add_scheduler_v2/lib/python3.8/site-packages (from -r requirements.txt (line 109)) (1.10.2)\n",
      "Requirement already satisfied: torchvision==0.11.3 in /home/viktorii/.virtualenvs/add_scheduler_v2/lib/python3.8/site-packages (from -r requirements.txt (line 110)) (0.11.3)\n",
      "Requirement already satisfied: tornado==6.1 in /home/viktorii/.virtualenvs/add_scheduler_v2/lib/python3.8/site-packages (from -r requirements.txt (line 111)) (6.1)\n",
      "Requirement already satisfied: tqdm==4.62.3 in /home/viktorii/.virtualenvs/add_scheduler_v2/lib/python3.8/site-packages (from -r requirements.txt (line 112)) (4.62.3)\n",
      "Requirement already satisfied: traitlets==5.1.1 in /home/viktorii/.virtualenvs/add_scheduler_v2/lib/python3.8/site-packages (from -r requirements.txt (line 113)) (5.1.1)\n",
      "Requirement already satisfied: typing-extensions==3.10.0.2 in /home/viktorii/.virtualenvs/add_scheduler_v2/lib/python3.8/site-packages (from -r requirements.txt (line 114)) (3.10.0.2)\n",
      "Requirement already satisfied: urllib3==1.26.8 in /home/viktorii/.virtualenvs/add_scheduler_v2/lib/python3.8/site-packages (from -r requirements.txt (line 115)) (1.26.8)\n",
      "Requirement already satisfied: vit-pytorch==0.22.0 in /home/viktorii/.virtualenvs/add_scheduler_v2/lib/python3.8/site-packages (from -r requirements.txt (line 116)) (0.22.0)\n",
      "Requirement already satisfied: wcwidth==0.2.5 in /home/viktorii/.virtualenvs/add_scheduler_v2/lib/python3.8/site-packages (from -r requirements.txt (line 117)) (0.2.5)\n",
      "Requirement already satisfied: webencodings==0.5.1 in /home/viktorii/.virtualenvs/add_scheduler_v2/lib/python3.8/site-packages (from -r requirements.txt (line 118)) (0.5.1)\n",
      "Requirement already satisfied: websocket-client==1.2.3 in /home/viktorii/.virtualenvs/add_scheduler_v2/lib/python3.8/site-packages (from -r requirements.txt (line 119)) (1.2.3)\n",
      "Requirement already satisfied: Werkzeug==2.0.2 in /home/viktorii/.virtualenvs/add_scheduler_v2/lib/python3.8/site-packages (from -r requirements.txt (line 120)) (2.0.2)\n",
      "Requirement already satisfied: wheel==0.37.1 in /home/viktorii/.virtualenvs/add_scheduler_v2/lib/python3.8/site-packages (from -r requirements.txt (line 121)) (0.37.1)\n",
      "Requirement already satisfied: widgetsnbextension==3.5.2 in /home/viktorii/.virtualenvs/add_scheduler_v2/lib/python3.8/site-packages (from -r requirements.txt (line 122)) (3.5.2)\n",
      "Requirement already satisfied: zipp==3.7.0 in /home/viktorii/.virtualenvs/add_scheduler_v2/lib/python3.8/site-packages (from -r requirements.txt (line 123)) (3.7.0)\n"
     ]
    }
   ],
   "source": [
    "# Install dependencies if not already installed\n",
    "!pip install -r requirements.txt"
   ]
  },
  {
   "cell_type": "markdown",
   "metadata": {},
   "source": [
    "## Import Libraries"
   ]
  },
  {
   "cell_type": "code",
   "execution_count": 2,
   "metadata": {},
   "outputs": [],
   "source": [
    "import os\n",
    "import random\n",
    "from copy import deepcopy\n",
    "\n",
    "from linformer import Linformer\n",
    "\n",
    "import numpy as np\n",
    "\n",
    "import torch\n",
    "import torch.nn as nn\n",
    "import torch.optim as optim\n",
    "from torch.utils.data import DataLoader, Dataset, SubsetRandomSampler\n",
    "from torch.optim.lr_scheduler import StepLR\n",
    "\n",
    "from torchvision import transforms\n",
    "\n",
    "import tqdm\n",
    "\n",
    "from vit_pytorch.efficient import ViT"
   ]
  },
  {
   "cell_type": "markdown",
   "metadata": {},
   "source": [
    "# Connect to the Federation"
   ]
  },
  {
   "cell_type": "code",
   "execution_count": 3,
   "metadata": {},
   "outputs": [],
   "source": [
    "# Create a federation\n",
    "from openfl.interface.interactive_api.federation import Federation\n",
    "\n",
    "# please use the same identificator that was used in signed certificate\n",
    "client_id = 'api'\n",
    "director_node_fqdn = 'localhost'\n",
    "director_port = 50051\n",
    "\n",
    "# 1) Run with API layer - Director mTLS\n",
    "# If the user wants to enable mTLS their must provide CA root chain,\n",
    "# and signed key pair to the federation interface\n",
    "# cert_chain = 'cert/root_ca.crt'\n",
    "# API_certificate = 'cert/frontend.crt'\n",
    "# API_private_key = 'cert/frontend.key'\n",
    "\n",
    "# federation = Federation(\n",
    "#     client_id=client_id,\n",
    "#     director_node_fqdn=director_node_fqdn,\n",
    "#     director_port=director_port,\n",
    "#     tls=True,\n",
    "#     cert_chain=cert_chain,\n",
    "#     api_cert=api_certificate,\n",
    "#     api_private_key=api_private_key\n",
    "# )\n",
    "\n",
    "# --------------------------------------------------------------------------------------------------------------------\n",
    "\n",
    "# 2) Run with TLS disabled (trusted environment)\n",
    "# Federation can also determine local fqdn automatically\n",
    "federation = Federation(\n",
    "    client_id=client_id,\n",
    "    director_node_fqdn=director_node_fqdn,\n",
    "    director_port=director_port,\n",
    "    tls=False\n",
    ")"
   ]
  },
  {
   "cell_type": "code",
   "execution_count": 4,
   "metadata": {},
   "outputs": [
    {
     "data": {
      "text/plain": [
       "{'env_one': {'shard_info': node_info {\n",
       "    name: \"env_one\"\n",
       "  }\n",
       "  shard_description: \"Dogs and Cats dataset, shard number 1 out of 2\"\n",
       "  sample_shape: \"300\"\n",
       "  sample_shape: \"300\"\n",
       "  sample_shape: \"3\"\n",
       "  target_shape: \"1\",\n",
       "  'is_online': True,\n",
       "  'is_experiment_running': False,\n",
       "  'last_updated': '2022-01-28 17:27:19',\n",
       "  'current_time': '2022-01-28 17:27:23',\n",
       "  'valid_duration': seconds: 120,\n",
       "  'experiment_name': 'ExperimentName Mock'}}"
      ]
     },
     "execution_count": 4,
     "metadata": {},
     "output_type": "execute_result"
    }
   ],
   "source": [
    "shard_registry = federation.get_shard_registry()\n",
    "shard_registry"
   ]
  },
  {
   "cell_type": "code",
   "execution_count": 5,
   "metadata": {},
   "outputs": [
    {
     "data": {
      "text/plain": [
       "['1']"
      ]
     },
     "execution_count": 5,
     "metadata": {},
     "output_type": "execute_result"
    }
   ],
   "source": [
    "federation.target_shape"
   ]
  },
  {
   "cell_type": "code",
   "execution_count": 6,
   "metadata": {},
   "outputs": [
    {
     "data": {
      "text/plain": [
       "'Sample shape: (300, 300, 3), target shape: (1,)'"
      ]
     },
     "execution_count": 6,
     "metadata": {},
     "output_type": "execute_result"
    }
   ],
   "source": [
    "# First, request a dummy_shard_desc that holds information about the federated dataset\n",
    "dummy_shard_desc = federation.get_dummy_shard_descriptor(size=10)\n",
    "dummy_shard_dataset = dummy_shard_desc.get_dataset('train')\n",
    "sample, target = dummy_shard_dataset[0]\n",
    "f\"Sample shape: {sample.shape}, target shape: {target.shape}\""
   ]
  },
  {
   "cell_type": "markdown",
   "metadata": {},
   "source": [
    "## Creating a FL experiment using Interactive API"
   ]
  },
  {
   "cell_type": "code",
   "execution_count": 7,
   "metadata": {},
   "outputs": [],
   "source": [
    "from openfl.interface.interactive_api.experiment import DataInterface, FLExperiment, ModelInterface, TaskInterface"
   ]
  },
  {
   "cell_type": "code",
   "execution_count": 8,
   "metadata": {},
   "outputs": [],
   "source": [
    "# Training settings\n",
    "batch_size = 64\n",
    "lr = 3e-5\n",
    "seed = 42"
   ]
  },
  {
   "cell_type": "code",
   "execution_count": 9,
   "metadata": {},
   "outputs": [],
   "source": [
    "def seed_everything(seed):\n",
    "    random.seed(seed)\n",
    "    os.environ['PYTHONHASHSEED'] = str(seed)\n",
    "    np.random.seed(seed)\n",
    "    torch.manual_seed(seed)\n",
    "    torch.cuda.manual_seed(seed)\n",
    "    torch.cuda.manual_seed_all(seed)\n",
    "    torch.backends.cudnn.deterministic = True\n",
    "\n",
    "\n",
    "seed_everything(seed)"
   ]
  },
  {
   "cell_type": "markdown",
   "metadata": {},
   "source": [
    "### Register dataset"
   ]
  },
  {
   "cell_type": "code",
   "execution_count": 10,
   "metadata": {},
   "outputs": [],
   "source": [
    "class DogsCatsShardDataset(Dataset):\n",
    "    def __init__(self, dataset, transform_type=\"train\"):\n",
    "        self._dataset = dataset\n",
    "\n",
    "        # Image Augumentation\n",
    "        if transform_type == \"train\":\n",
    "            self.transform = transforms.Compose(\n",
    "                [\n",
    "                    transforms.ToPILImage(),\n",
    "                    transforms.Resize((224, 224)),\n",
    "                    transforms.RandomResizedCrop(224),\n",
    "                    transforms.RandomHorizontalFlip(),\n",
    "                    transforms.ToTensor(),\n",
    "                ]\n",
    "            )\n",
    "        elif transform_type == \"val\":\n",
    "            self.transform = transforms.Compose(\n",
    "                [\n",
    "                    transforms.ToPILImage(),\n",
    "                    transforms.Resize(256),\n",
    "                    transforms.CenterCrop(224),\n",
    "                    transforms.ToTensor(),\n",
    "                ]\n",
    "            )\n",
    "        elif transform_type == \"test\":\n",
    "            self.transform = transforms.Compose(\n",
    "                [\n",
    "                    transforms.ToPILImage(),\n",
    "                    transforms.Resize(256),\n",
    "                    transforms.CenterCrop(224),\n",
    "                    transforms.ToTensor(),\n",
    "                ]\n",
    "            )\n",
    "        else:\n",
    "            raise ValueError(\"Invalid transform type: {}\".format(transform_type))\n",
    "\n",
    "    def __len__(self):\n",
    "        self.filelength = len(self._dataset)\n",
    "        return self.filelength\n",
    "\n",
    "    def __getitem__(self, idx):\n",
    "        img, label = self._dataset[idx]\n",
    "        img_transformed = self.transform(img).numpy()\n",
    "        return img_transformed, label[0]\n",
    "\n",
    "\n",
    "# Now you can implement your data loaders using dummy_shard_desc\n",
    "class DogsCatsSD(DataInterface):\n",
    "\n",
    "    def __init__(self, validation_fraction=1/5, **kwargs):\n",
    "        super().__init__(**kwargs)\n",
    "\n",
    "        self.validation_fraction = validation_fraction\n",
    "\n",
    "    @property\n",
    "    def shard_descriptor(self):\n",
    "        return self._shard_descriptor\n",
    "\n",
    "    @shard_descriptor.setter\n",
    "    def shard_descriptor(self, shard_descriptor):\n",
    "        \"\"\"\n",
    "        Describe per-collaborator procedures or sharding.\n",
    "\n",
    "        This method will be called during a collaborator initialization.\n",
    "        Local shard_descriptor  will be set by Envoy.\n",
    "        \"\"\"\n",
    "        self._shard_descriptor = shard_descriptor\n",
    "        self._shard_dataset = DogsCatsShardDataset(shard_descriptor.get_dataset('train'))\n",
    "\n",
    "        validation_size = max(1, int(len(self._shard_dataset) * self.validation_fraction))\n",
    "\n",
    "        self.train_indexes = np.arange(len(self._shard_dataset) - validation_size)\n",
    "        self.val_indexes = np.arange(len(self._shard_dataset) - validation_size, len(self._shard_dataset))\n",
    "\n",
    "    def get_train_loader(self, **kwargs):\n",
    "        \"\"\"\n",
    "        Output of this method will be provided to tasks with optimizer in contract\n",
    "        \"\"\"\n",
    "        train_sampler = SubsetRandomSampler(self.train_indexes)\n",
    "\n",
    "        return DataLoader(\n",
    "            self._shard_dataset,\n",
    "            num_workers=8,\n",
    "            batch_size=self.kwargs['train_bs'],\n",
    "            sampler=train_sampler\n",
    "        )\n",
    "\n",
    "    def get_valid_loader(self, **kwargs):\n",
    "        \"\"\"\n",
    "        Output of this method will be provided to tasks without optimizer in contract\n",
    "        \"\"\"\n",
    "        val_sampler = SubsetRandomSampler(self.val_indexes)\n",
    "        return DataLoader(\n",
    "            self._shard_dataset,\n",
    "            num_workers=8,\n",
    "            batch_size=self.kwargs['valid_bs'],\n",
    "            sampler=val_sampler\n",
    "        )\n",
    "\n",
    "    def get_train_data_size(self):\n",
    "        \"\"\"\n",
    "        Information for aggregation\n",
    "        \"\"\"\n",
    "        return len(self.train_indexes)\n",
    "\n",
    "    def get_valid_data_size(self):\n",
    "        \"\"\"\n",
    "        Information for aggregation\n",
    "        \"\"\"\n",
    "        return len(self.val_indexes)"
   ]
  },
  {
   "cell_type": "code",
   "execution_count": 11,
   "metadata": {},
   "outputs": [
    {
     "name": "stdout",
     "output_type": "stream",
     "text": [
      "torch.Size([8, 3, 224, 224])\n"
     ]
    }
   ],
   "source": [
    "fed_dataset = DogsCatsSD(train_bs=batch_size, valid_bs=batch_size)\n",
    "fed_dataset.shard_descriptor = dummy_shard_desc\n",
    "for i, (sample, target) in enumerate(fed_dataset.get_train_loader()):\n",
    "    print(sample.shape)"
   ]
  },
  {
   "cell_type": "markdown",
   "metadata": {},
   "source": [
    "### Describe a model and optimizer"
   ]
  },
  {
   "cell_type": "markdown",
   "metadata": {},
   "source": [
    "#### Linformer"
   ]
  },
  {
   "cell_type": "code",
   "execution_count": 12,
   "metadata": {},
   "outputs": [],
   "source": [
    "efficient_transformer = Linformer(\n",
    "    dim=128,\n",
    "    seq_len=49 + 1,  # 7x7 patches + 1 cls-token\n",
    "    depth=12,\n",
    "    heads=8,\n",
    "    k=64\n",
    ")"
   ]
  },
  {
   "cell_type": "markdown",
   "metadata": {},
   "source": [
    "#### Visual Transformer"
   ]
  },
  {
   "cell_type": "code",
   "execution_count": 13,
   "metadata": {},
   "outputs": [],
   "source": [
    "model = ViT(\n",
    "    dim=128,\n",
    "    image_size=224,\n",
    "    patch_size=32,\n",
    "    num_classes=2,\n",
    "    transformer=efficient_transformer,\n",
    "    channels=3,\n",
    ")"
   ]
  },
  {
   "cell_type": "code",
   "execution_count": 14,
   "metadata": {},
   "outputs": [],
   "source": [
    "# loss function\n",
    "criterion = nn.CrossEntropyLoss()\n",
    "# optimizer\n",
    "optimizer = optim.Adam(model.parameters(), lr=lr)"
   ]
  },
  {
   "cell_type": "markdown",
   "metadata": {},
   "source": [
    "#### Register model"
   ]
  },
  {
   "cell_type": "code",
   "execution_count": 15,
   "metadata": {},
   "outputs": [],
   "source": [
    "framework_adapter = 'openfl.plugins.frameworks_adapters.pytorch_adapter.FrameworkAdapterPlugin'\n",
    "MI = ModelInterface(model=model, optimizer=optimizer, framework_plugin=framework_adapter)\n",
    "\n",
    "# Save the initial model state\n",
    "initial_model = deepcopy(model)"
   ]
  },
  {
   "cell_type": "markdown",
   "metadata": {},
   "source": [
    "### Define and register FL tasks"
   ]
  },
  {
   "cell_type": "code",
   "execution_count": 16,
   "metadata": {},
   "outputs": [],
   "source": [
    "from openfl.component.aggregation_functions import Median\n",
    "\n",
    "\n",
    "TI = TaskInterface()\n",
    "\n",
    "\n",
    "# The Interactive API supports registering functions definied in main module or imported.\n",
    "def function_defined_in_notebook(some_parameter):\n",
    "    print(f'Also I accept a parameter and it is {some_parameter}')\n",
    "\n",
    "\n",
    "# The Interactive API supports overriding of the aggregation function\n",
    "aggregation_function = Median()\n",
    "\n",
    "\n",
    "# Task interface currently supports only standalone functions.\n",
    "@TI.add_kwargs(**{'some_parameter': 42})\n",
    "@TI.register_fl_task(model='model', data_loader='train_loader',\n",
    "                     device='device', optimizer='optimizer', round_num='round_num')\n",
    "@TI.set_aggregation_function(aggregation_function)\n",
    "def train(model, train_loader, optimizer, round_num, device, loss_fn=criterion, some_parameter=None):\n",
    "    function_defined_in_notebook(some_parameter)\n",
    "    epoch_loss = 0\n",
    "    epoch_accuracy = 0\n",
    "\n",
    "    # Be careful at the scheduler initialization stage makes 'step()', that's why: \n",
    "    # * if you have one epoch per round DO NOT do 'scheduler.step()' at all.\n",
    "    # * if you have several epoch per round, makes 'scheduler.step()' for all of them EXCEPT the last one.\n",
    "    scheduler = StepLR(optimizer, step_size=1, gamma=0.1, verbose=True, last_epoch=round_num-1)\n",
    "    train_loader = tqdm.tqdm(train_loader, desc=\"train\")\n",
    "    model.train()\n",
    "    model.to(device)\n",
    "\n",
    "    for data, target in train_loader:\n",
    "        data, target = torch.tensor(data).to(device), torch.tensor(target).to(device, dtype=torch.long)\n",
    "        optimizer.zero_grad()\n",
    "        output = model(data)\n",
    "        loss = loss_fn(output, target)\n",
    "        loss.backward()\n",
    "        optimizer.step()\n",
    "\n",
    "        acc = (output.argmax(dim=1) == target).float().mean()\n",
    "        epoch_accuracy += acc.cpu().numpy() / len(train_loader)\n",
    "        epoch_loss += loss.detach().cpu().numpy() / len(train_loader)\n",
    "\n",
    "    return {'loss': epoch_loss, 'accuracy': epoch_accuracy}\n",
    "\n",
    "\n",
    "@TI.register_fl_task(model='model', data_loader='val_loader', device='device')\n",
    "def validate(model, val_loader, device):\n",
    "\n",
    "    model.eval()\n",
    "    model.to(device)\n",
    "\n",
    "    val_loader = tqdm.tqdm(val_loader, desc=\"validate\")\n",
    "\n",
    "    with torch.no_grad():\n",
    "        epoch_val_accuracy = 0\n",
    "        epoch_val_loss = 0\n",
    "        for data, target in val_loader:\n",
    "            data, target = torch.tensor(data).to(device), torch.tensor(target).to(device, dtype=torch.long)\n",
    "            val_output = model(data)\n",
    "            val_loss = criterion(val_output, target)\n",
    "\n",
    "            acc = (val_output.argmax(dim=1) == target).float().mean()\n",
    "            epoch_val_accuracy += acc.cpu().numpy() / len(val_loader)\n",
    "            epoch_val_loss += val_loss.detach().cpu().numpy() / len(val_loader)\n",
    "\n",
    "    return {'val_loss': epoch_val_loss, 'val_accuracy': epoch_val_accuracy}"
   ]
  },
  {
   "cell_type": "markdown",
   "metadata": {},
   "source": [
    "## Time to start a federated learning experiment"
   ]
  },
  {
   "cell_type": "code",
   "execution_count": 17,
   "metadata": {},
   "outputs": [],
   "source": [
    "# create an experimnet in federation\n",
    "experiment_name = 'ViT_DogsCats_experiment'\n",
    "fl_experiment = FLExperiment(federation=federation, experiment_name=experiment_name)"
   ]
  },
  {
   "cell_type": "code",
   "execution_count": 18,
   "metadata": {},
   "outputs": [
    {
     "data": {
      "text/html": [
       "<pre style=\"white-space:pre;overflow-x:auto;line-height:normal;font-family:Menlo,'DejaVu Sans Mono',consolas,'Courier New',monospace\"><span style=\"color: #7fbfbf\">[17:27:25] </span><span style=\"color: #000080\">INFO</span>     Building <span style=\"color: #800000\">🡆</span> Object <span style=\"color: #800000\">CloudpickleSerializer</span> from <span style=\"color: #800000\">openfl.plugins.interface_serializer.cloudpickle_serializer</span> Module.                  <a href=\"file:///home/viktorii/ViktoriiaRomanova/openfl/federated/plan/plan.py\"><span style=\"color: #7f7f7f\">plan.py</span></a><span style=\"color: #7f7f7f\">:170</span>\n",
       "</pre>\n"
      ],
      "text/plain": [
       "<rich.jupyter.JupyterRenderable at 0x7fa937042dc0>"
      ]
     },
     "metadata": {},
     "output_type": "display_data"
    },
    {
     "data": {
      "text/html": [
       "<pre style=\"white-space:pre;overflow-x:auto;line-height:normal;font-family:Menlo,'DejaVu Sans Mono',consolas,'Courier New',monospace\"><span style=\"color: #7fbfbf\">           </span><span style=\"color: #000080\">INFO</span>     Settings <span style=\"color: #800000\">🡆</span> <span style=\"font-weight: bold\">{}</span>                                                                                                                    <a href=\"file:///home/viktorii/ViktoriiaRomanova/openfl/federated/plan/plan.py\"><span style=\"color: #7f7f7f\">plan.py</span></a><span style=\"color: #7f7f7f\">:173</span>\n",
       "</pre>\n"
      ],
      "text/plain": [
       "<rich.jupyter.JupyterRenderable at 0x7fa937042dc0>"
      ]
     },
     "metadata": {},
     "output_type": "display_data"
    },
    {
     "data": {
      "text/html": [
       "<pre style=\"white-space:pre;overflow-x:auto;line-height:normal;font-family:Menlo,'DejaVu Sans Mono',consolas,'Courier New',monospace\"><span style=\"color: #7fbfbf\">           </span><span style=\"color: #000080\">INFO</span>     Override <span style=\"color: #800000\">🡆</span> <span style=\"font-weight: bold\">{}</span>                                                                                                                    <a href=\"file:///home/viktorii/ViktoriiaRomanova/openfl/federated/plan/plan.py\"><span style=\"color: #7f7f7f\">plan.py</span></a><span style=\"color: #7f7f7f\">:175</span>\n",
       "</pre>\n"
      ],
      "text/plain": [
       "<rich.jupyter.JupyterRenderable at 0x7fa937042dc0>"
      ]
     },
     "metadata": {},
     "output_type": "display_data"
    },
    {
     "data": {
      "text/html": [
       "<pre style=\"white-space:pre;overflow-x:auto;line-height:normal;font-family:Menlo,'DejaVu Sans Mono',consolas,'Courier New',monospace\"><span style=\"color: #7fbfbf\">           </span><span style=\"color: #000080\">INFO</span>     Building <span style=\"color: #800000\">🡆</span> Object <span style=\"color: #800000\">FrameworkAdapterPlugin</span> from <span style=\"color: #800000\">openfl.plugins.frameworks_adapters.pytorch_adapter</span> Module.                         <a href=\"file:///home/viktorii/ViktoriiaRomanova/openfl/federated/plan/plan.py\"><span style=\"color: #7f7f7f\">plan.py</span></a><span style=\"color: #7f7f7f\">:170</span>\n",
       "</pre>\n"
      ],
      "text/plain": [
       "<rich.jupyter.JupyterRenderable at 0x7fa9d0316ee0>"
      ]
     },
     "metadata": {},
     "output_type": "display_data"
    },
    {
     "data": {
      "text/html": [
       "<pre style=\"white-space:pre;overflow-x:auto;line-height:normal;font-family:Menlo,'DejaVu Sans Mono',consolas,'Courier New',monospace\"><span style=\"color: #7fbfbf\">           </span><span style=\"color: #000080\">INFO</span>     Settings <span style=\"color: #800000\">🡆</span> <span style=\"font-weight: bold\">{}</span>                                                                                                                    <a href=\"file:///home/viktorii/ViktoriiaRomanova/openfl/federated/plan/plan.py\"><span style=\"color: #7f7f7f\">plan.py</span></a><span style=\"color: #7f7f7f\">:173</span>\n",
       "</pre>\n"
      ],
      "text/plain": [
       "<rich.jupyter.JupyterRenderable at 0x7fa9d0313070>"
      ]
     },
     "metadata": {},
     "output_type": "display_data"
    },
    {
     "data": {
      "text/html": [
       "<pre style=\"white-space:pre;overflow-x:auto;line-height:normal;font-family:Menlo,'DejaVu Sans Mono',consolas,'Courier New',monospace\"><span style=\"color: #7fbfbf\">           </span><span style=\"color: #000080\">INFO</span>     Override <span style=\"color: #800000\">🡆</span> <span style=\"font-weight: bold\">{}</span>                                                                                                                    <a href=\"file:///home/viktorii/ViktoriiaRomanova/openfl/federated/plan/plan.py\"><span style=\"color: #7f7f7f\">plan.py</span></a><span style=\"color: #7f7f7f\">:175</span>\n",
       "</pre>\n"
      ],
      "text/plain": [
       "<rich.jupyter.JupyterRenderable at 0x7fa9d034ec70>"
      ]
     },
     "metadata": {},
     "output_type": "display_data"
    },
    {
     "name": "stderr",
     "output_type": "stream",
     "text": [
      "/home/viktorii/.virtualenvs/add_scheduler_v2/lib/python3.8/site-packages/_distutils_hack/__init__.py:36: UserWarning: Setuptools is replacing distutils.\n",
      "  warnings.warn(\"Setuptools is replacing distutils.\")\n"
     ]
    },
    {
     "data": {
      "text/html": [
       "<pre style=\"white-space:pre;overflow-x:auto;line-height:normal;font-family:Menlo,'DejaVu Sans Mono',consolas,'Courier New',monospace\"><span style=\"color: #7fbfbf\">           </span><span style=\"color: #000080\">INFO</span>     Starting experiment!                                                                                                       <a href=\"file:///home/viktorii/ViktoriiaRomanova/openfl/interface/interactive_api/experiment.py\"><span style=\"color: #7f7f7f\">experiment.py</span></a><span style=\"color: #7f7f7f\">:173</span>\n",
       "</pre>\n"
      ],
      "text/plain": [
       "<rich.jupyter.JupyterRenderable at 0x7fa95a4aed30>"
      ]
     },
     "metadata": {},
     "output_type": "display_data"
    },
    {
     "data": {
      "text/html": [
       "<pre style=\"white-space:pre;overflow-x:auto;line-height:normal;font-family:Menlo,'DejaVu Sans Mono',consolas,'Courier New',monospace\"><span style=\"color: #7fbfbf\">           </span><span style=\"color: #000080\">INFO</span>     FL-Plan hash is <span style=\"color: #000080\">1fec7b7cea80ea9d4d771a0ccc72165bde7156cad7b6619318fbb7079525e4b15ddb94777072c9d1841c3116e0899409</span>                 <a href=\"file:///home/viktorii/ViktoriiaRomanova/openfl/federated/plan/plan.py\"><span style=\"color: #7f7f7f\">plan.py</span></a><span style=\"color: #7f7f7f\">:232</span>\n",
       "</pre>\n"
      ],
      "text/plain": [
       "<rich.jupyter.JupyterRenderable at 0x7fa95a4a97c0>"
      ]
     },
     "metadata": {},
     "output_type": "display_data"
    },
    {
     "data": {
      "text/html": [
       "<pre style=\"white-space:pre;overflow-x:auto;line-height:normal;font-family:Menlo,'DejaVu Sans Mono',consolas,'Courier New',monospace\"><span style=\"color: #7fbfbf\">           </span><span style=\"color: #000080\">INFO</span>     FL-Plan hash is <span style=\"color: #000080\">1fec7b7cea80ea9d4d771a0ccc72165bde7156cad7b6619318fbb7079525e4b15ddb94777072c9d1841c3116e0899409</span>                 <a href=\"file:///home/viktorii/ViktoriiaRomanova/openfl/federated/plan/plan.py\"><span style=\"color: #7f7f7f\">plan.py</span></a><span style=\"color: #7f7f7f\">:232</span>\n",
       "</pre>\n"
      ],
      "text/plain": [
       "<rich.jupyter.JupyterRenderable at 0x7fa9d02c4c70>"
      ]
     },
     "metadata": {},
     "output_type": "display_data"
    },
    {
     "data": {
      "text/html": [
       "<pre style=\"white-space:pre;overflow-x:auto;line-height:normal;font-family:Menlo,'DejaVu Sans Mono',consolas,'Courier New',monospace\"><span style=\"color: #7fbfbf\">           </span><span style=\"color: #000080\">INFO</span>     Building <span style=\"color: #800000\">🡆</span> Object <span style=\"color: #800000\">CoreTaskRunner</span> from <span style=\"color: #800000\">openfl.federated.task.task_runner</span> Module.                                                  <a href=\"file:///home/viktorii/ViktoriiaRomanova/openfl/federated/plan/plan.py\"><span style=\"color: #7f7f7f\">plan.py</span></a><span style=\"color: #7f7f7f\">:170</span>\n",
       "</pre>\n"
      ],
      "text/plain": [
       "<rich.jupyter.JupyterRenderable at 0x7fa9d02c4520>"
      ]
     },
     "metadata": {},
     "output_type": "display_data"
    },
    {
     "data": {
      "text/html": [
       "<pre style=\"white-space:pre;overflow-x:auto;line-height:normal;font-family:Menlo,'DejaVu Sans Mono',consolas,'Courier New',monospace\"><span style=\"color: #7fbfbf\">           </span><span style=\"color: #000080\">INFO</span>     Settings <span style=\"color: #800000\">🡆</span> <span style=\"font-weight: bold\">{}</span>                                                                                                                    <a href=\"file:///home/viktorii/ViktoriiaRomanova/openfl/federated/plan/plan.py\"><span style=\"color: #7f7f7f\">plan.py</span></a><span style=\"color: #7f7f7f\">:173</span>\n",
       "</pre>\n"
      ],
      "text/plain": [
       "<rich.jupyter.JupyterRenderable at 0x7fa9d02c4c70>"
      ]
     },
     "metadata": {},
     "output_type": "display_data"
    },
    {
     "data": {
      "text/html": [
       "<pre style=\"white-space:pre;overflow-x:auto;line-height:normal;font-family:Menlo,'DejaVu Sans Mono',consolas,'Courier New',monospace\"><span style=\"color: #7fbfbf\">           </span><span style=\"color: #000080\">INFO</span>     Override <span style=\"color: #800000\">🡆</span> <span style=\"font-weight: bold\">{</span><span style=\"color: #008000\">'required_plugin_components'</span>: <span style=\"font-weight: bold\">{</span><span style=\"color: #008000\">'framework_adapters'</span>:                                                                 <a href=\"file:///home/viktorii/ViktoriiaRomanova/openfl/federated/plan/plan.py\"><span style=\"color: #7f7f7f\">plan.py</span></a><span style=\"color: #7f7f7f\">:175</span>\n",
       "                    <span style=\"color: #008000\">'openfl.plugins.frameworks_adapters.pytorch_adapter.FrameworkAdapterPlugin'</span><span style=\"font-weight: bold\">}}</span>                                                               \n",
       "</pre>\n"
      ],
      "text/plain": [
       "<rich.jupyter.JupyterRenderable at 0x7fa9d02c4520>"
      ]
     },
     "metadata": {},
     "output_type": "display_data"
    },
    {
     "data": {
      "text/html": [
       "<pre style=\"white-space:pre;overflow-x:auto;line-height:normal;font-family:Menlo,'DejaVu Sans Mono',consolas,'Courier New',monospace\"><span style=\"color: #7fbfbf\">           </span><span style=\"color: #000080\">INFO</span>     Building <span style=\"color: #800000\">🡆</span> Object <span style=\"color: #800000\">FrameworkAdapterPlugin</span> from <span style=\"color: #800000\">openfl.plugins.frameworks_adapters.pytorch_adapter</span> Module.                         <a href=\"file:///home/viktorii/ViktoriiaRomanova/openfl/federated/plan/plan.py\"><span style=\"color: #7f7f7f\">plan.py</span></a><span style=\"color: #7f7f7f\">:170</span>\n",
       "</pre>\n"
      ],
      "text/plain": [
       "<rich.jupyter.JupyterRenderable at 0x7fa95a4ae4f0>"
      ]
     },
     "metadata": {},
     "output_type": "display_data"
    },
    {
     "data": {
      "text/html": [
       "<pre style=\"white-space:pre;overflow-x:auto;line-height:normal;font-family:Menlo,'DejaVu Sans Mono',consolas,'Courier New',monospace\"><span style=\"color: #7fbfbf\">           </span><span style=\"color: #000080\">INFO</span>     Settings <span style=\"color: #800000\">🡆</span> <span style=\"font-weight: bold\">{}</span>                                                                                                                    <a href=\"file:///home/viktorii/ViktoriiaRomanova/openfl/federated/plan/plan.py\"><span style=\"color: #7f7f7f\">plan.py</span></a><span style=\"color: #7f7f7f\">:173</span>\n",
       "</pre>\n"
      ],
      "text/plain": [
       "<rich.jupyter.JupyterRenderable at 0x7fa95a4ae460>"
      ]
     },
     "metadata": {},
     "output_type": "display_data"
    },
    {
     "data": {
      "text/html": [
       "<pre style=\"white-space:pre;overflow-x:auto;line-height:normal;font-family:Menlo,'DejaVu Sans Mono',consolas,'Courier New',monospace\"><span style=\"color: #7fbfbf\">           </span><span style=\"color: #000080\">INFO</span>     Override <span style=\"color: #800000\">🡆</span> <span style=\"font-weight: bold\">{}</span>                                                                                                                    <a href=\"file:///home/viktorii/ViktoriiaRomanova/openfl/federated/plan/plan.py\"><span style=\"color: #7f7f7f\">plan.py</span></a><span style=\"color: #7f7f7f\">:175</span>\n",
       "</pre>\n"
      ],
      "text/plain": [
       "<rich.jupyter.JupyterRenderable at 0x7fa95a4ae670>"
      ]
     },
     "metadata": {},
     "output_type": "display_data"
    },
    {
     "data": {
      "text/html": [
       "<pre style=\"white-space:pre;overflow-x:auto;line-height:normal;font-family:Menlo,'DejaVu Sans Mono',consolas,'Courier New',monospace\"><span style=\"color: #7fbfbf\">           </span><span style=\"color: #800000\">WARNING</span>  tried to remove tensor: __opt_state_needed not present in the tensor dict                                                       <a href=\"file:///home/viktorii/ViktoriiaRomanova/openfl/utilities/utils.py\"><span style=\"color: #7f7f7f\">utils.py</span></a><span style=\"color: #7f7f7f\">:165</span>\n",
       "</pre>\n"
      ],
      "text/plain": [
       "<rich.jupyter.JupyterRenderable at 0x7fa95a4aed60>"
      ]
     },
     "metadata": {},
     "output_type": "display_data"
    },
    {
     "data": {
      "text/html": [
       "<pre style=\"white-space:pre;overflow-x:auto;line-height:normal;font-family:Menlo,'DejaVu Sans Mono',consolas,'Courier New',monospace\"><span style=\"color: #7fbfbf\">[17:27:26] </span><span style=\"color: #800000\">WARNING</span>  tried to remove tensor: __opt_state_needed not present in the tensor dict                                                       <a href=\"file:///home/viktorii/ViktoriiaRomanova/openfl/utilities/utils.py\"><span style=\"color: #7f7f7f\">utils.py</span></a><span style=\"color: #7f7f7f\">:165</span>\n",
       "</pre>\n"
      ],
      "text/plain": [
       "<rich.jupyter.JupyterRenderable at 0x7fa95a4aeeb0>"
      ]
     },
     "metadata": {},
     "output_type": "display_data"
    },
    {
     "data": {
      "text/html": [
       "<pre style=\"white-space:pre;overflow-x:auto;line-height:normal;font-family:Menlo,'DejaVu Sans Mono',consolas,'Courier New',monospace\"><span style=\"color: #7fbfbf\">           </span><span style=\"color: #000080\">INFO</span>     SetNewExperiment                                                                                                      <a href=\"file:///home/viktorii/ViktoriiaRomanova/openfl/transport/grpc/director_client.py\"><span style=\"color: #7f7f7f\">director_client.py</span></a><span style=\"color: #7f7f7f\">:201</span>\n",
       "</pre>\n"
      ],
      "text/plain": [
       "<rich.jupyter.JupyterRenderable at 0x7fa95a4ae460>"
      ]
     },
     "metadata": {},
     "output_type": "display_data"
    },
    {
     "data": {
      "text/html": [
       "<pre style=\"white-space:pre;overflow-x:auto;line-height:normal;font-family:Menlo,'DejaVu Sans Mono',consolas,'Courier New',monospace\"><span style=\"color: #7fbfbf\">           </span><span style=\"color: #000080\">INFO</span>     Experiment was accepted and launched.                                                                                      <a href=\"file:///home/viktorii/ViktoriiaRomanova/openfl/interface/interactive_api/experiment.py\"><span style=\"color: #7f7f7f\">experiment.py</span></a><span style=\"color: #7f7f7f\">:187</span>\n",
       "</pre>\n"
      ],
      "text/plain": [
       "<rich.jupyter.JupyterRenderable at 0x7fa95a4ae3a0>"
      ]
     },
     "metadata": {},
     "output_type": "display_data"
    }
   ],
   "source": [
    "# The following command zips the workspace and python requirements to be transfered to collaborator nodes\n",
    "fl_experiment.start(model_provider=MI,\n",
    "                    task_keeper=TI,\n",
    "                    data_loader=fed_dataset,\n",
    "                    rounds_to_train=5,\n",
    "                    opt_treatment='CONTINUE_GLOBAL',\n",
    "                    device_assignment_policy='CUDA_PREFERRED')"
   ]
  },
  {
   "cell_type": "code",
   "execution_count": 19,
   "metadata": {},
   "outputs": [
    {
     "data": {
      "text/html": [
       "<pre style=\"white-space:pre;overflow-x:auto;line-height:normal;font-family:Menlo,'DejaVu Sans Mono',consolas,'Courier New',monospace\"><span style=\"color: #7fbfbf\">[17:28:16] </span>METRIC   Round <span style=\"color: #000080; font-weight: bold\">0</span>, collaborator env_one train result loss:        <span style=\"color: #000080; font-weight: bold\">0.695373</span>                                                           <a href=\"file:///home/viktorii/ViktoriiaRomanova/openfl/interface/interactive_api/experiment.py\"><span style=\"color: #7f7f7f\">experiment.py</span></a><span style=\"color: #7f7f7f\">:111</span>\n",
       "</pre>\n"
      ],
      "text/plain": [
       "<rich.jupyter.JupyterRenderable at 0x7fa95a4ae400>"
      ]
     },
     "metadata": {},
     "output_type": "display_data"
    },
    {
     "data": {
      "text/html": [
       "<pre style=\"white-space:pre;overflow-x:auto;line-height:normal;font-family:Menlo,'DejaVu Sans Mono',consolas,'Courier New',monospace\"><span style=\"color: #7fbfbf\">           </span>METRIC   Round <span style=\"color: #000080; font-weight: bold\">0</span>, collaborator env_one train result accuracy:    <span style=\"color: #000080; font-weight: bold\">0.497811</span>                                                           <a href=\"file:///home/viktorii/ViktoriiaRomanova/openfl/interface/interactive_api/experiment.py\"><span style=\"color: #7f7f7f\">experiment.py</span></a><span style=\"color: #7f7f7f\">:111</span>\n",
       "</pre>\n"
      ],
      "text/plain": [
       "<rich.jupyter.JupyterRenderable at 0x7fa95a4a9a60>"
      ]
     },
     "metadata": {},
     "output_type": "display_data"
    },
    {
     "data": {
      "text/html": [
       "<pre style=\"white-space:pre;overflow-x:auto;line-height:normal;font-family:Menlo,'DejaVu Sans Mono',consolas,'Courier New',monospace\"><span style=\"color: #7fbfbf\">[17:28:20] </span>METRIC   Round <span style=\"color: #000080; font-weight: bold\">0</span>, collaborator env_one localy_tuned_model_validate result val_loss:      <span style=\"color: #000080; font-weight: bold\">0.692274</span>                                   <a href=\"file:///home/viktorii/ViktoriiaRomanova/openfl/interface/interactive_api/experiment.py\"><span style=\"color: #7f7f7f\">experiment.py</span></a><span style=\"color: #7f7f7f\">:111</span>\n",
       "</pre>\n"
      ],
      "text/plain": [
       "<rich.jupyter.JupyterRenderable at 0x7fa95a4a9910>"
      ]
     },
     "metadata": {},
     "output_type": "display_data"
    },
    {
     "data": {
      "text/html": [
       "<pre style=\"white-space:pre;overflow-x:auto;line-height:normal;font-family:Menlo,'DejaVu Sans Mono',consolas,'Courier New',monospace\"><span style=\"color: #7fbfbf\">           </span>METRIC   Round <span style=\"color: #000080; font-weight: bold\">0</span>, collaborator env_one localy_tuned_model_validate result val_accuracy:  <span style=\"color: #000080; font-weight: bold\">0.506641</span>                                   <a href=\"file:///home/viktorii/ViktoriiaRomanova/openfl/interface/interactive_api/experiment.py\"><span style=\"color: #7f7f7f\">experiment.py</span></a><span style=\"color: #7f7f7f\">:111</span>\n",
       "</pre>\n"
      ],
      "text/plain": [
       "<rich.jupyter.JupyterRenderable at 0x7fa95a4a9e20>"
      ]
     },
     "metadata": {},
     "output_type": "display_data"
    },
    {
     "data": {
      "text/html": [
       "<pre style=\"white-space:pre;overflow-x:auto;line-height:normal;font-family:Menlo,'DejaVu Sans Mono',consolas,'Courier New',monospace\"><span style=\"color: #7fbfbf\">[17:28:24] </span>METRIC   Round <span style=\"color: #000080; font-weight: bold\">0</span>, collaborator env_one aggregated_model_validate result val_loss:        <span style=\"color: #000080; font-weight: bold\">0.722677</span>                                   <a href=\"file:///home/viktorii/ViktoriiaRomanova/openfl/interface/interactive_api/experiment.py\"><span style=\"color: #7f7f7f\">experiment.py</span></a><span style=\"color: #7f7f7f\">:111</span>\n",
       "</pre>\n"
      ],
      "text/plain": [
       "<rich.jupyter.JupyterRenderable at 0x7fa95a4a9b80>"
      ]
     },
     "metadata": {},
     "output_type": "display_data"
    },
    {
     "data": {
      "text/html": [
       "<pre style=\"white-space:pre;overflow-x:auto;line-height:normal;font-family:Menlo,'DejaVu Sans Mono',consolas,'Courier New',monospace\"><span style=\"color: #7fbfbf\">           </span>METRIC   Round <span style=\"color: #000080; font-weight: bold\">0</span>, collaborator env_one aggregated_model_validate result val_accuracy:    <span style=\"color: #000080; font-weight: bold\">0.498047</span>                                   <a href=\"file:///home/viktorii/ViktoriiaRomanova/openfl/interface/interactive_api/experiment.py\"><span style=\"color: #7f7f7f\">experiment.py</span></a><span style=\"color: #7f7f7f\">:111</span>\n",
       "</pre>\n"
      ],
      "text/plain": [
       "<rich.jupyter.JupyterRenderable at 0x7fa95a4a9e20>"
      ]
     },
     "metadata": {},
     "output_type": "display_data"
    },
    {
     "data": {
      "text/html": [
       "<pre style=\"white-space:pre;overflow-x:auto;line-height:normal;font-family:Menlo,'DejaVu Sans Mono',consolas,'Courier New',monospace\"><span style=\"color: #7fbfbf\">           </span>METRIC   Round <span style=\"color: #000080; font-weight: bold\">0</span>, collaborator Aggregator aggregated_model_validate result val_loss:     <span style=\"color: #000080; font-weight: bold\">0.722677</span>                                   <a href=\"file:///home/viktorii/ViktoriiaRomanova/openfl/interface/interactive_api/experiment.py\"><span style=\"color: #7f7f7f\">experiment.py</span></a><span style=\"color: #7f7f7f\">:111</span>\n",
       "</pre>\n"
      ],
      "text/plain": [
       "<rich.jupyter.JupyterRenderable at 0x7fa95a4a9fa0>"
      ]
     },
     "metadata": {},
     "output_type": "display_data"
    },
    {
     "data": {
      "text/html": [
       "<pre style=\"white-space:pre;overflow-x:auto;line-height:normal;font-family:Menlo,'DejaVu Sans Mono',consolas,'Courier New',monospace\"><span style=\"color: #7fbfbf\">           </span>METRIC   Round <span style=\"color: #000080; font-weight: bold\">0</span>, collaborator Aggregator aggregated_model_validate result val_accuracy: <span style=\"color: #000080; font-weight: bold\">0.498047</span>                                   <a href=\"file:///home/viktorii/ViktoriiaRomanova/openfl/interface/interactive_api/experiment.py\"><span style=\"color: #7f7f7f\">experiment.py</span></a><span style=\"color: #7f7f7f\">:111</span>\n",
       "</pre>\n"
      ],
      "text/plain": [
       "<rich.jupyter.JupyterRenderable at 0x7fa95a4a9e20>"
      ]
     },
     "metadata": {},
     "output_type": "display_data"
    },
    {
     "data": {
      "text/html": [
       "<pre style=\"white-space:pre;overflow-x:auto;line-height:normal;font-family:Menlo,'DejaVu Sans Mono',consolas,'Courier New',monospace\"><span style=\"color: #7fbfbf\">[17:28:29] </span>METRIC   Round <span style=\"color: #000080; font-weight: bold\">0</span>, collaborator Aggregator train result loss:     <span style=\"color: #000080; font-weight: bold\">0.695373</span>                                                           <a href=\"file:///home/viktorii/ViktoriiaRomanova/openfl/interface/interactive_api/experiment.py\"><span style=\"color: #7f7f7f\">experiment.py</span></a><span style=\"color: #7f7f7f\">:111</span>\n",
       "</pre>\n"
      ],
      "text/plain": [
       "<rich.jupyter.JupyterRenderable at 0x7fa95a4a9a90>"
      ]
     },
     "metadata": {},
     "output_type": "display_data"
    },
    {
     "data": {
      "text/html": [
       "<pre style=\"white-space:pre;overflow-x:auto;line-height:normal;font-family:Menlo,'DejaVu Sans Mono',consolas,'Courier New',monospace\"><span style=\"color: #7fbfbf\">           </span>METRIC   Round <span style=\"color: #000080; font-weight: bold\">0</span>, collaborator Aggregator train result accuracy: <span style=\"color: #000080; font-weight: bold\">0.497811</span>                                                           <a href=\"file:///home/viktorii/ViktoriiaRomanova/openfl/interface/interactive_api/experiment.py\"><span style=\"color: #7f7f7f\">experiment.py</span></a><span style=\"color: #7f7f7f\">:111</span>\n",
       "</pre>\n"
      ],
      "text/plain": [
       "<rich.jupyter.JupyterRenderable at 0x7fa95a4a98e0>"
      ]
     },
     "metadata": {},
     "output_type": "display_data"
    },
    {
     "data": {
      "text/html": [
       "<pre style=\"white-space:pre;overflow-x:auto;line-height:normal;font-family:Menlo,'DejaVu Sans Mono',consolas,'Courier New',monospace\"><span style=\"color: #7fbfbf\">           </span>METRIC   Round <span style=\"color: #000080; font-weight: bold\">0</span>, collaborator Aggregator localy_tuned_model_validate result val_loss:   <span style=\"color: #000080; font-weight: bold\">0.692274</span>                                   <a href=\"file:///home/viktorii/ViktoriiaRomanova/openfl/interface/interactive_api/experiment.py\"><span style=\"color: #7f7f7f\">experiment.py</span></a><span style=\"color: #7f7f7f\">:111</span>\n",
       "</pre>\n"
      ],
      "text/plain": [
       "<rich.jupyter.JupyterRenderable at 0x7fa95a4a9fa0>"
      ]
     },
     "metadata": {},
     "output_type": "display_data"
    },
    {
     "data": {
      "text/html": [
       "<pre style=\"white-space:pre;overflow-x:auto;line-height:normal;font-family:Menlo,'DejaVu Sans Mono',consolas,'Courier New',monospace\"><span style=\"color: #7fbfbf\">           </span>METRIC   Round <span style=\"color: #000080; font-weight: bold\">0</span>, collaborator Aggregator localy_tuned_model_validate result val_accuracy:       <span style=\"color: #000080; font-weight: bold\">0.506641</span>                           <a href=\"file:///home/viktorii/ViktoriiaRomanova/openfl/interface/interactive_api/experiment.py\"><span style=\"color: #7f7f7f\">experiment.py</span></a><span style=\"color: #7f7f7f\">:111</span>\n",
       "</pre>\n"
      ],
      "text/plain": [
       "<rich.jupyter.JupyterRenderable at 0x7fa95a4a9790>"
      ]
     },
     "metadata": {},
     "output_type": "display_data"
    },
    {
     "data": {
      "text/html": [
       "<pre style=\"white-space:pre;overflow-x:auto;line-height:normal;font-family:Menlo,'DejaVu Sans Mono',consolas,'Courier New',monospace\"><span style=\"color: #7fbfbf\">[17:29:27] </span>METRIC   Round <span style=\"color: #000080; font-weight: bold\">1</span>, collaborator env_one train result loss:        <span style=\"color: #000080; font-weight: bold\">0.692559</span>                                                           <a href=\"file:///home/viktorii/ViktoriiaRomanova/openfl/interface/interactive_api/experiment.py\"><span style=\"color: #7f7f7f\">experiment.py</span></a><span style=\"color: #7f7f7f\">:111</span>\n",
       "</pre>\n"
      ],
      "text/plain": [
       "<rich.jupyter.JupyterRenderable at 0x7fa95a4a9f70>"
      ]
     },
     "metadata": {},
     "output_type": "display_data"
    },
    {
     "data": {
      "text/html": [
       "<pre style=\"white-space:pre;overflow-x:auto;line-height:normal;font-family:Menlo,'DejaVu Sans Mono',consolas,'Courier New',monospace\"><span style=\"color: #7fbfbf\">           </span>METRIC   Round <span style=\"color: #000080; font-weight: bold\">1</span>, collaborator env_one train result accuracy:    <span style=\"color: #000080; font-weight: bold\">0.510748</span>                                                           <a href=\"file:///home/viktorii/ViktoriiaRomanova/openfl/interface/interactive_api/experiment.py\"><span style=\"color: #7f7f7f\">experiment.py</span></a><span style=\"color: #7f7f7f\">:111</span>\n",
       "</pre>\n"
      ],
      "text/plain": [
       "<rich.jupyter.JupyterRenderable at 0x7fa95a4a98e0>"
      ]
     },
     "metadata": {},
     "output_type": "display_data"
    },
    {
     "data": {
      "text/html": [
       "<pre style=\"white-space:pre;overflow-x:auto;line-height:normal;font-family:Menlo,'DejaVu Sans Mono',consolas,'Courier New',monospace\"><span style=\"color: #7fbfbf\">[17:29:31] </span>METRIC   Round <span style=\"color: #000080; font-weight: bold\">1</span>, collaborator env_one localy_tuned_model_validate result val_loss:      <span style=\"color: #000080; font-weight: bold\">0.692255</span>                                   <a href=\"file:///home/viktorii/ViktoriiaRomanova/openfl/interface/interactive_api/experiment.py\"><span style=\"color: #7f7f7f\">experiment.py</span></a><span style=\"color: #7f7f7f\">:111</span>\n",
       "</pre>\n"
      ],
      "text/plain": [
       "<rich.jupyter.JupyterRenderable at 0x7fa95a4a9b20>"
      ]
     },
     "metadata": {},
     "output_type": "display_data"
    },
    {
     "data": {
      "text/html": [
       "<pre style=\"white-space:pre;overflow-x:auto;line-height:normal;font-family:Menlo,'DejaVu Sans Mono',consolas,'Courier New',monospace\"><span style=\"color: #7fbfbf\">           </span>METRIC   Round <span style=\"color: #000080; font-weight: bold\">1</span>, collaborator env_one localy_tuned_model_validate result val_accuracy:  <span style=\"color: #000080; font-weight: bold\">0.488672</span>                                   <a href=\"file:///home/viktorii/ViktoriiaRomanova/openfl/interface/interactive_api/experiment.py\"><span style=\"color: #7f7f7f\">experiment.py</span></a><span style=\"color: #7f7f7f\">:111</span>\n",
       "</pre>\n"
      ],
      "text/plain": [
       "<rich.jupyter.JupyterRenderable at 0x7fa95a4a9f70>"
      ]
     },
     "metadata": {},
     "output_type": "display_data"
    },
    {
     "data": {
      "text/html": [
       "<pre style=\"white-space:pre;overflow-x:auto;line-height:normal;font-family:Menlo,'DejaVu Sans Mono',consolas,'Courier New',monospace\"><span style=\"color: #7fbfbf\">[17:29:34] </span>METRIC   Round <span style=\"color: #000080; font-weight: bold\">1</span>, collaborator env_one aggregated_model_validate result val_loss:        <span style=\"color: #000080; font-weight: bold\">0.692539</span>                                   <a href=\"file:///home/viktorii/ViktoriiaRomanova/openfl/interface/interactive_api/experiment.py\"><span style=\"color: #7f7f7f\">experiment.py</span></a><span style=\"color: #7f7f7f\">:111</span>\n",
       "</pre>\n"
      ],
      "text/plain": [
       "<rich.jupyter.JupyterRenderable at 0x7fa95a4a9ac0>"
      ]
     },
     "metadata": {},
     "output_type": "display_data"
    },
    {
     "data": {
      "text/html": [
       "<pre style=\"white-space:pre;overflow-x:auto;line-height:normal;font-family:Menlo,'DejaVu Sans Mono',consolas,'Courier New',monospace\"><span style=\"color: #7fbfbf\">           </span>METRIC   Round <span style=\"color: #000080; font-weight: bold\">1</span>, collaborator env_one aggregated_model_validate result val_accuracy:    <span style=\"color: #000080; font-weight: bold\">0.498828</span>                                   <a href=\"file:///home/viktorii/ViktoriiaRomanova/openfl/interface/interactive_api/experiment.py\"><span style=\"color: #7f7f7f\">experiment.py</span></a><span style=\"color: #7f7f7f\">:111</span>\n",
       "</pre>\n"
      ],
      "text/plain": [
       "<rich.jupyter.JupyterRenderable at 0x7fa95a4a9e20>"
      ]
     },
     "metadata": {},
     "output_type": "display_data"
    },
    {
     "data": {
      "text/html": [
       "<pre style=\"white-space:pre;overflow-x:auto;line-height:normal;font-family:Menlo,'DejaVu Sans Mono',consolas,'Courier New',monospace\"><span style=\"color: #7fbfbf\">           </span>METRIC   Round <span style=\"color: #000080; font-weight: bold\">1</span>, collaborator Aggregator aggregated_model_validate result val_loss:     <span style=\"color: #000080; font-weight: bold\">0.692539</span>                                   <a href=\"file:///home/viktorii/ViktoriiaRomanova/openfl/interface/interactive_api/experiment.py\"><span style=\"color: #7f7f7f\">experiment.py</span></a><span style=\"color: #7f7f7f\">:111</span>\n",
       "</pre>\n"
      ],
      "text/plain": [
       "<rich.jupyter.JupyterRenderable at 0x7fa95a4a9940>"
      ]
     },
     "metadata": {},
     "output_type": "display_data"
    },
    {
     "data": {
      "text/html": [
       "<pre style=\"white-space:pre;overflow-x:auto;line-height:normal;font-family:Menlo,'DejaVu Sans Mono',consolas,'Courier New',monospace\"><span style=\"color: #7fbfbf\">           </span>METRIC   Round <span style=\"color: #000080; font-weight: bold\">1</span>, collaborator Aggregator aggregated_model_validate result val_accuracy: <span style=\"color: #000080; font-weight: bold\">0.498828</span>                                   <a href=\"file:///home/viktorii/ViktoriiaRomanova/openfl/interface/interactive_api/experiment.py\"><span style=\"color: #7f7f7f\">experiment.py</span></a><span style=\"color: #7f7f7f\">:111</span>\n",
       "</pre>\n"
      ],
      "text/plain": [
       "<rich.jupyter.JupyterRenderable at 0x7fa95a4a9b20>"
      ]
     },
     "metadata": {},
     "output_type": "display_data"
    },
    {
     "data": {
      "text/html": [
       "<pre style=\"white-space:pre;overflow-x:auto;line-height:normal;font-family:Menlo,'DejaVu Sans Mono',consolas,'Courier New',monospace\"><span style=\"color: #7fbfbf\">[17:29:41] </span>METRIC   Round <span style=\"color: #000080; font-weight: bold\">1</span>, collaborator Aggregator train result loss:     <span style=\"color: #000080; font-weight: bold\">0.692559</span>                                                           <a href=\"file:///home/viktorii/ViktoriiaRomanova/openfl/interface/interactive_api/experiment.py\"><span style=\"color: #7f7f7f\">experiment.py</span></a><span style=\"color: #7f7f7f\">:111</span>\n",
       "</pre>\n"
      ],
      "text/plain": [
       "<rich.jupyter.JupyterRenderable at 0x7fa95a4a98e0>"
      ]
     },
     "metadata": {},
     "output_type": "display_data"
    },
    {
     "data": {
      "text/html": [
       "<pre style=\"white-space:pre;overflow-x:auto;line-height:normal;font-family:Menlo,'DejaVu Sans Mono',consolas,'Courier New',monospace\"><span style=\"color: #7fbfbf\">           </span>METRIC   Round <span style=\"color: #000080; font-weight: bold\">1</span>, collaborator Aggregator train result accuracy: <span style=\"color: #000080; font-weight: bold\">0.510748</span>                                                           <a href=\"file:///home/viktorii/ViktoriiaRomanova/openfl/interface/interactive_api/experiment.py\"><span style=\"color: #7f7f7f\">experiment.py</span></a><span style=\"color: #7f7f7f\">:111</span>\n",
       "</pre>\n"
      ],
      "text/plain": [
       "<rich.jupyter.JupyterRenderable at 0x7fa95a4a9ac0>"
      ]
     },
     "metadata": {},
     "output_type": "display_data"
    },
    {
     "data": {
      "text/html": [
       "<pre style=\"white-space:pre;overflow-x:auto;line-height:normal;font-family:Menlo,'DejaVu Sans Mono',consolas,'Courier New',monospace\"><span style=\"color: #7fbfbf\">           </span>METRIC   Round <span style=\"color: #000080; font-weight: bold\">1</span>, collaborator Aggregator localy_tuned_model_validate result val_loss:   <span style=\"color: #000080; font-weight: bold\">0.692255</span>                                   <a href=\"file:///home/viktorii/ViktoriiaRomanova/openfl/interface/interactive_api/experiment.py\"><span style=\"color: #7f7f7f\">experiment.py</span></a><span style=\"color: #7f7f7f\">:111</span>\n",
       "</pre>\n"
      ],
      "text/plain": [
       "<rich.jupyter.JupyterRenderable at 0x7fa95a4a9940>"
      ]
     },
     "metadata": {},
     "output_type": "display_data"
    },
    {
     "data": {
      "text/html": [
       "<pre style=\"white-space:pre;overflow-x:auto;line-height:normal;font-family:Menlo,'DejaVu Sans Mono',consolas,'Courier New',monospace\"><span style=\"color: #7fbfbf\">           </span>METRIC   Round <span style=\"color: #000080; font-weight: bold\">1</span>, collaborator Aggregator localy_tuned_model_validate result val_accuracy:       <span style=\"color: #000080; font-weight: bold\">0.488672</span>                           <a href=\"file:///home/viktorii/ViktoriiaRomanova/openfl/interface/interactive_api/experiment.py\"><span style=\"color: #7f7f7f\">experiment.py</span></a><span style=\"color: #7f7f7f\">:111</span>\n",
       "</pre>\n"
      ],
      "text/plain": [
       "<rich.jupyter.JupyterRenderable at 0x7fa95a4a9f70>"
      ]
     },
     "metadata": {},
     "output_type": "display_data"
    },
    {
     "data": {
      "text/html": [
       "<pre style=\"white-space:pre;overflow-x:auto;line-height:normal;font-family:Menlo,'DejaVu Sans Mono',consolas,'Courier New',monospace\"><span style=\"color: #7fbfbf\">[17:30:41] </span>METRIC   Round <span style=\"color: #000080; font-weight: bold\">2</span>, collaborator env_one train result loss:        <span style=\"color: #000080; font-weight: bold\">0.691988</span>                                                           <a href=\"file:///home/viktorii/ViktoriiaRomanova/openfl/interface/interactive_api/experiment.py\"><span style=\"color: #7f7f7f\">experiment.py</span></a><span style=\"color: #7f7f7f\">:111</span>\n",
       "</pre>\n"
      ],
      "text/plain": [
       "<rich.jupyter.JupyterRenderable at 0x7fa95a4a9b80>"
      ]
     },
     "metadata": {},
     "output_type": "display_data"
    },
    {
     "data": {
      "text/html": [
       "<pre style=\"white-space:pre;overflow-x:auto;line-height:normal;font-family:Menlo,'DejaVu Sans Mono',consolas,'Courier New',monospace\"><span style=\"color: #7fbfbf\">           </span>METRIC   Round <span style=\"color: #000080; font-weight: bold\">2</span>, collaborator env_one train result accuracy:    <span style=\"color: #000080; font-weight: bold\">0.525179</span>                                                           <a href=\"file:///home/viktorii/ViktoriiaRomanova/openfl/interface/interactive_api/experiment.py\"><span style=\"color: #7f7f7f\">experiment.py</span></a><span style=\"color: #7f7f7f\">:111</span>\n",
       "</pre>\n"
      ],
      "text/plain": [
       "<rich.jupyter.JupyterRenderable at 0x7fa95a4a9910>"
      ]
     },
     "metadata": {},
     "output_type": "display_data"
    },
    {
     "data": {
      "text/html": [
       "<pre style=\"white-space:pre;overflow-x:auto;line-height:normal;font-family:Menlo,'DejaVu Sans Mono',consolas,'Courier New',monospace\"><span style=\"color: #7fbfbf\">[17:30:44] </span>METRIC   Round <span style=\"color: #000080; font-weight: bold\">2</span>, collaborator env_one localy_tuned_model_validate result val_loss:      <span style=\"color: #000080; font-weight: bold\">0.692068</span>                                   <a href=\"file:///home/viktorii/ViktoriiaRomanova/openfl/interface/interactive_api/experiment.py\"><span style=\"color: #7f7f7f\">experiment.py</span></a><span style=\"color: #7f7f7f\">:111</span>\n",
       "</pre>\n"
      ],
      "text/plain": [
       "<rich.jupyter.JupyterRenderable at 0x7fa95a4a9790>"
      ]
     },
     "metadata": {},
     "output_type": "display_data"
    },
    {
     "data": {
      "text/html": [
       "<pre style=\"white-space:pre;overflow-x:auto;line-height:normal;font-family:Menlo,'DejaVu Sans Mono',consolas,'Courier New',monospace\"><span style=\"color: #7fbfbf\">           </span>METRIC   Round <span style=\"color: #000080; font-weight: bold\">2</span>, collaborator env_one localy_tuned_model_validate result val_accuracy:  <span style=\"color: #000080; font-weight: bold\">0.499609</span>                                   <a href=\"file:///home/viktorii/ViktoriiaRomanova/openfl/interface/interactive_api/experiment.py\"><span style=\"color: #7f7f7f\">experiment.py</span></a><span style=\"color: #7f7f7f\">:111</span>\n",
       "</pre>\n"
      ],
      "text/plain": [
       "<rich.jupyter.JupyterRenderable at 0x7fa95a4a9910>"
      ]
     },
     "metadata": {},
     "output_type": "display_data"
    },
    {
     "data": {
      "text/html": [
       "<pre style=\"white-space:pre;overflow-x:auto;line-height:normal;font-family:Menlo,'DejaVu Sans Mono',consolas,'Courier New',monospace\"><span style=\"color: #7fbfbf\">[17:30:48] </span>METRIC   Round <span style=\"color: #000080; font-weight: bold\">2</span>, collaborator env_one aggregated_model_validate result val_loss:        <span style=\"color: #000080; font-weight: bold\">0.692064</span>                                   <a href=\"file:///home/viktorii/ViktoriiaRomanova/openfl/interface/interactive_api/experiment.py\"><span style=\"color: #7f7f7f\">experiment.py</span></a><span style=\"color: #7f7f7f\">:111</span>\n",
       "</pre>\n"
      ],
      "text/plain": [
       "<rich.jupyter.JupyterRenderable at 0x7fa95a4a9b80>"
      ]
     },
     "metadata": {},
     "output_type": "display_data"
    },
    {
     "data": {
      "text/html": [
       "<pre style=\"white-space:pre;overflow-x:auto;line-height:normal;font-family:Menlo,'DejaVu Sans Mono',consolas,'Courier New',monospace\"><span style=\"color: #7fbfbf\">           </span>METRIC   Round <span style=\"color: #000080; font-weight: bold\">2</span>, collaborator env_one aggregated_model_validate result val_accuracy:    <span style=\"color: #000080; font-weight: bold\">0.497656</span>                                   <a href=\"file:///home/viktorii/ViktoriiaRomanova/openfl/interface/interactive_api/experiment.py\"><span style=\"color: #7f7f7f\">experiment.py</span></a><span style=\"color: #7f7f7f\">:111</span>\n",
       "</pre>\n"
      ],
      "text/plain": [
       "<rich.jupyter.JupyterRenderable at 0x7fa95a4a9910>"
      ]
     },
     "metadata": {},
     "output_type": "display_data"
    },
    {
     "data": {
      "text/html": [
       "<pre style=\"white-space:pre;overflow-x:auto;line-height:normal;font-family:Menlo,'DejaVu Sans Mono',consolas,'Courier New',monospace\"><span style=\"color: #7fbfbf\">           </span>METRIC   Round <span style=\"color: #000080; font-weight: bold\">2</span>, collaborator Aggregator aggregated_model_validate result val_loss:     <span style=\"color: #000080; font-weight: bold\">0.692064</span>                                   <a href=\"file:///home/viktorii/ViktoriiaRomanova/openfl/interface/interactive_api/experiment.py\"><span style=\"color: #7f7f7f\">experiment.py</span></a><span style=\"color: #7f7f7f\">:111</span>\n",
       "</pre>\n"
      ],
      "text/plain": [
       "<rich.jupyter.JupyterRenderable at 0x7fa95a4a98e0>"
      ]
     },
     "metadata": {},
     "output_type": "display_data"
    },
    {
     "data": {
      "text/html": [
       "<pre style=\"white-space:pre;overflow-x:auto;line-height:normal;font-family:Menlo,'DejaVu Sans Mono',consolas,'Courier New',monospace\"><span style=\"color: #7fbfbf\">           </span>METRIC   Round <span style=\"color: #000080; font-weight: bold\">2</span>, collaborator Aggregator aggregated_model_validate result val_accuracy: <span style=\"color: #000080; font-weight: bold\">0.497656</span>                                   <a href=\"file:///home/viktorii/ViktoriiaRomanova/openfl/interface/interactive_api/experiment.py\"><span style=\"color: #7f7f7f\">experiment.py</span></a><span style=\"color: #7f7f7f\">:111</span>\n",
       "</pre>\n"
      ],
      "text/plain": [
       "<rich.jupyter.JupyterRenderable at 0x7fa95a4a9b80>"
      ]
     },
     "metadata": {},
     "output_type": "display_data"
    },
    {
     "data": {
      "text/html": [
       "<pre style=\"white-space:pre;overflow-x:auto;line-height:normal;font-family:Menlo,'DejaVu Sans Mono',consolas,'Courier New',monospace\"><span style=\"color: #7fbfbf\">[17:30:56] </span>METRIC   Round <span style=\"color: #000080; font-weight: bold\">2</span>, collaborator Aggregator train result loss:     <span style=\"color: #000080; font-weight: bold\">0.691988</span>                                                           <a href=\"file:///home/viktorii/ViktoriiaRomanova/openfl/interface/interactive_api/experiment.py\"><span style=\"color: #7f7f7f\">experiment.py</span></a><span style=\"color: #7f7f7f\">:111</span>\n",
       "</pre>\n"
      ],
      "text/plain": [
       "<rich.jupyter.JupyterRenderable at 0x7fa95a4a9ee0>"
      ]
     },
     "metadata": {},
     "output_type": "display_data"
    },
    {
     "data": {
      "text/html": [
       "<pre style=\"white-space:pre;overflow-x:auto;line-height:normal;font-family:Menlo,'DejaVu Sans Mono',consolas,'Courier New',monospace\"><span style=\"color: #7fbfbf\">           </span>METRIC   Round <span style=\"color: #000080; font-weight: bold\">2</span>, collaborator Aggregator train result accuracy: <span style=\"color: #000080; font-weight: bold\">0.525179</span>                                                           <a href=\"file:///home/viktorii/ViktoriiaRomanova/openfl/interface/interactive_api/experiment.py\"><span style=\"color: #7f7f7f\">experiment.py</span></a><span style=\"color: #7f7f7f\">:111</span>\n",
       "</pre>\n"
      ],
      "text/plain": [
       "<rich.jupyter.JupyterRenderable at 0x7fa95a4a9e50>"
      ]
     },
     "metadata": {},
     "output_type": "display_data"
    },
    {
     "data": {
      "text/html": [
       "<pre style=\"white-space:pre;overflow-x:auto;line-height:normal;font-family:Menlo,'DejaVu Sans Mono',consolas,'Courier New',monospace\"><span style=\"color: #7fbfbf\">           </span>METRIC   Round <span style=\"color: #000080; font-weight: bold\">2</span>, collaborator Aggregator localy_tuned_model_validate result val_loss:   <span style=\"color: #000080; font-weight: bold\">0.692068</span>                                   <a href=\"file:///home/viktorii/ViktoriiaRomanova/openfl/interface/interactive_api/experiment.py\"><span style=\"color: #7f7f7f\">experiment.py</span></a><span style=\"color: #7f7f7f\">:111</span>\n",
       "</pre>\n"
      ],
      "text/plain": [
       "<rich.jupyter.JupyterRenderable at 0x7fa95a4a9b80>"
      ]
     },
     "metadata": {},
     "output_type": "display_data"
    },
    {
     "data": {
      "text/html": [
       "<pre style=\"white-space:pre;overflow-x:auto;line-height:normal;font-family:Menlo,'DejaVu Sans Mono',consolas,'Courier New',monospace\"><span style=\"color: #7fbfbf\">           </span>METRIC   Round <span style=\"color: #000080; font-weight: bold\">2</span>, collaborator Aggregator localy_tuned_model_validate result val_accuracy:       <span style=\"color: #000080; font-weight: bold\">0.499609</span>                           <a href=\"file:///home/viktorii/ViktoriiaRomanova/openfl/interface/interactive_api/experiment.py\"><span style=\"color: #7f7f7f\">experiment.py</span></a><span style=\"color: #7f7f7f\">:111</span>\n",
       "</pre>\n"
      ],
      "text/plain": [
       "<rich.jupyter.JupyterRenderable at 0x7fa95a4a9e20>"
      ]
     },
     "metadata": {},
     "output_type": "display_data"
    },
    {
     "data": {
      "text/html": [
       "<pre style=\"white-space:pre;overflow-x:auto;line-height:normal;font-family:Menlo,'DejaVu Sans Mono',consolas,'Courier New',monospace\"><span style=\"color: #7fbfbf\">[17:31:56] </span>METRIC   Round <span style=\"color: #000080; font-weight: bold\">3</span>, collaborator env_one train result loss:        <span style=\"color: #000080; font-weight: bold\">0.691999</span>                                                           <a href=\"file:///home/viktorii/ViktoriiaRomanova/openfl/interface/interactive_api/experiment.py\"><span style=\"color: #7f7f7f\">experiment.py</span></a><span style=\"color: #7f7f7f\">:111</span>\n",
       "</pre>\n"
      ],
      "text/plain": [
       "<rich.jupyter.JupyterRenderable at 0x7fa95a4a9700>"
      ]
     },
     "metadata": {},
     "output_type": "display_data"
    },
    {
     "data": {
      "text/html": [
       "<pre style=\"white-space:pre;overflow-x:auto;line-height:normal;font-family:Menlo,'DejaVu Sans Mono',consolas,'Courier New',monospace\"><span style=\"color: #7fbfbf\">           </span>METRIC   Round <span style=\"color: #000080; font-weight: bold\">3</span>, collaborator env_one train result accuracy:    <span style=\"color: #000080; font-weight: bold\">0.509853</span>                                                           <a href=\"file:///home/viktorii/ViktoriiaRomanova/openfl/interface/interactive_api/experiment.py\"><span style=\"color: #7f7f7f\">experiment.py</span></a><span style=\"color: #7f7f7f\">:111</span>\n",
       "</pre>\n"
      ],
      "text/plain": [
       "<rich.jupyter.JupyterRenderable at 0x7fa95a4a9e20>"
      ]
     },
     "metadata": {},
     "output_type": "display_data"
    },
    {
     "data": {
      "text/html": [
       "<pre style=\"white-space:pre;overflow-x:auto;line-height:normal;font-family:Menlo,'DejaVu Sans Mono',consolas,'Courier New',monospace\"><span style=\"color: #7fbfbf\">[17:32:00] </span>METRIC   Round <span style=\"color: #000080; font-weight: bold\">3</span>, collaborator env_one localy_tuned_model_validate result val_loss:      <span style=\"color: #000080; font-weight: bold\">0.691716</span>                                   <a href=\"file:///home/viktorii/ViktoriiaRomanova/openfl/interface/interactive_api/experiment.py\"><span style=\"color: #7f7f7f\">experiment.py</span></a><span style=\"color: #7f7f7f\">:111</span>\n",
       "</pre>\n"
      ],
      "text/plain": [
       "<rich.jupyter.JupyterRenderable at 0x7fa95a4a9790>"
      ]
     },
     "metadata": {},
     "output_type": "display_data"
    },
    {
     "data": {
      "text/html": [
       "<pre style=\"white-space:pre;overflow-x:auto;line-height:normal;font-family:Menlo,'DejaVu Sans Mono',consolas,'Courier New',monospace\"><span style=\"color: #7fbfbf\">           </span>METRIC   Round <span style=\"color: #000080; font-weight: bold\">3</span>, collaborator env_one localy_tuned_model_validate result val_accuracy:  <span style=\"color: #000080; font-weight: bold\">0.521094</span>                                   <a href=\"file:///home/viktorii/ViktoriiaRomanova/openfl/interface/interactive_api/experiment.py\"><span style=\"color: #7f7f7f\">experiment.py</span></a><span style=\"color: #7f7f7f\">:111</span>\n",
       "</pre>\n"
      ],
      "text/plain": [
       "<rich.jupyter.JupyterRenderable at 0x7fa95a4a9a90>"
      ]
     },
     "metadata": {},
     "output_type": "display_data"
    },
    {
     "data": {
      "text/html": [
       "<pre style=\"white-space:pre;overflow-x:auto;line-height:normal;font-family:Menlo,'DejaVu Sans Mono',consolas,'Courier New',monospace\"><span style=\"color: #7fbfbf\">[17:32:03] </span>METRIC   Round <span style=\"color: #000080; font-weight: bold\">3</span>, collaborator env_one aggregated_model_validate result val_loss:        <span style=\"color: #000080; font-weight: bold\">0.691673</span>                                   <a href=\"file:///home/viktorii/ViktoriiaRomanova/openfl/interface/interactive_api/experiment.py\"><span style=\"color: #7f7f7f\">experiment.py</span></a><span style=\"color: #7f7f7f\">:111</span>\n",
       "</pre>\n"
      ],
      "text/plain": [
       "<rich.jupyter.JupyterRenderable at 0x7fa95a4a9ac0>"
      ]
     },
     "metadata": {},
     "output_type": "display_data"
    },
    {
     "data": {
      "text/html": [
       "<pre style=\"white-space:pre;overflow-x:auto;line-height:normal;font-family:Menlo,'DejaVu Sans Mono',consolas,'Courier New',monospace\"><span style=\"color: #7fbfbf\">           </span>METRIC   Round <span style=\"color: #000080; font-weight: bold\">3</span>, collaborator env_one aggregated_model_validate result val_accuracy:    <span style=\"color: #000080; font-weight: bold\">0.501953</span>                                   <a href=\"file:///home/viktorii/ViktoriiaRomanova/openfl/interface/interactive_api/experiment.py\"><span style=\"color: #7f7f7f\">experiment.py</span></a><span style=\"color: #7f7f7f\">:111</span>\n",
       "</pre>\n"
      ],
      "text/plain": [
       "<rich.jupyter.JupyterRenderable at 0x7fa95a4a9850>"
      ]
     },
     "metadata": {},
     "output_type": "display_data"
    },
    {
     "data": {
      "text/html": [
       "<pre style=\"white-space:pre;overflow-x:auto;line-height:normal;font-family:Menlo,'DejaVu Sans Mono',consolas,'Courier New',monospace\"><span style=\"color: #7fbfbf\">[17:32:04] </span>METRIC   Round <span style=\"color: #000080; font-weight: bold\">3</span>, collaborator Aggregator aggregated_model_validate result val_loss:     <span style=\"color: #000080; font-weight: bold\">0.691673</span>                                   <a href=\"file:///home/viktorii/ViktoriiaRomanova/openfl/interface/interactive_api/experiment.py\"><span style=\"color: #7f7f7f\">experiment.py</span></a><span style=\"color: #7f7f7f\">:111</span>\n",
       "</pre>\n"
      ],
      "text/plain": [
       "<rich.jupyter.JupyterRenderable at 0x7fa95a4a9700>"
      ]
     },
     "metadata": {},
     "output_type": "display_data"
    },
    {
     "data": {
      "text/html": [
       "<pre style=\"white-space:pre;overflow-x:auto;line-height:normal;font-family:Menlo,'DejaVu Sans Mono',consolas,'Courier New',monospace\"><span style=\"color: #7fbfbf\">           </span>METRIC   Round <span style=\"color: #000080; font-weight: bold\">3</span>, collaborator Aggregator aggregated_model_validate result val_accuracy: <span style=\"color: #000080; font-weight: bold\">0.501953</span>                                   <a href=\"file:///home/viktorii/ViktoriiaRomanova/openfl/interface/interactive_api/experiment.py\"><span style=\"color: #7f7f7f\">experiment.py</span></a><span style=\"color: #7f7f7f\">:111</span>\n",
       "</pre>\n"
      ],
      "text/plain": [
       "<rich.jupyter.JupyterRenderable at 0x7fa95a4a9a90>"
      ]
     },
     "metadata": {},
     "output_type": "display_data"
    },
    {
     "data": {
      "text/html": [
       "<pre style=\"white-space:pre;overflow-x:auto;line-height:normal;font-family:Menlo,'DejaVu Sans Mono',consolas,'Courier New',monospace\"><span style=\"color: #7fbfbf\">[17:32:11] </span>METRIC   Round <span style=\"color: #000080; font-weight: bold\">3</span>, collaborator Aggregator train result loss:     <span style=\"color: #000080; font-weight: bold\">0.691999</span>                                                           <a href=\"file:///home/viktorii/ViktoriiaRomanova/openfl/interface/interactive_api/experiment.py\"><span style=\"color: #7f7f7f\">experiment.py</span></a><span style=\"color: #7f7f7f\">:111</span>\n",
       "</pre>\n"
      ],
      "text/plain": [
       "<rich.jupyter.JupyterRenderable at 0x7fa95a4a9ac0>"
      ]
     },
     "metadata": {},
     "output_type": "display_data"
    },
    {
     "data": {
      "text/html": [
       "<pre style=\"white-space:pre;overflow-x:auto;line-height:normal;font-family:Menlo,'DejaVu Sans Mono',consolas,'Courier New',monospace\"><span style=\"color: #7fbfbf\">           </span>METRIC   Round <span style=\"color: #000080; font-weight: bold\">3</span>, collaborator Aggregator train result accuracy: <span style=\"color: #000080; font-weight: bold\">0.509853</span>                                                           <a href=\"file:///home/viktorii/ViktoriiaRomanova/openfl/interface/interactive_api/experiment.py\"><span style=\"color: #7f7f7f\">experiment.py</span></a><span style=\"color: #7f7f7f\">:111</span>\n",
       "</pre>\n"
      ],
      "text/plain": [
       "<rich.jupyter.JupyterRenderable at 0x7fa95a4a9700>"
      ]
     },
     "metadata": {},
     "output_type": "display_data"
    },
    {
     "data": {
      "text/html": [
       "<pre style=\"white-space:pre;overflow-x:auto;line-height:normal;font-family:Menlo,'DejaVu Sans Mono',consolas,'Courier New',monospace\"><span style=\"color: #7fbfbf\">           </span>METRIC   Round <span style=\"color: #000080; font-weight: bold\">3</span>, collaborator Aggregator localy_tuned_model_validate result val_loss:   <span style=\"color: #000080; font-weight: bold\">0.691716</span>                                   <a href=\"file:///home/viktorii/ViktoriiaRomanova/openfl/interface/interactive_api/experiment.py\"><span style=\"color: #7f7f7f\">experiment.py</span></a><span style=\"color: #7f7f7f\">:111</span>\n",
       "</pre>\n"
      ],
      "text/plain": [
       "<rich.jupyter.JupyterRenderable at 0x7fa95a4a9ac0>"
      ]
     },
     "metadata": {},
     "output_type": "display_data"
    },
    {
     "data": {
      "text/html": [
       "<pre style=\"white-space:pre;overflow-x:auto;line-height:normal;font-family:Menlo,'DejaVu Sans Mono',consolas,'Courier New',monospace\"><span style=\"color: #7fbfbf\">           </span>METRIC   Round <span style=\"color: #000080; font-weight: bold\">3</span>, collaborator Aggregator localy_tuned_model_validate result val_accuracy:       <span style=\"color: #000080; font-weight: bold\">0.521094</span>                           <a href=\"file:///home/viktorii/ViktoriiaRomanova/openfl/interface/interactive_api/experiment.py\"><span style=\"color: #7f7f7f\">experiment.py</span></a><span style=\"color: #7f7f7f\">:111</span>\n",
       "</pre>\n"
      ],
      "text/plain": [
       "<rich.jupyter.JupyterRenderable at 0x7fa95a4a9700>"
      ]
     },
     "metadata": {},
     "output_type": "display_data"
    },
    {
     "data": {
      "text/html": [
       "<pre style=\"white-space:pre;overflow-x:auto;line-height:normal;font-family:Menlo,'DejaVu Sans Mono',consolas,'Courier New',monospace\"><span style=\"color: #7fbfbf\">[17:33:11] </span>METRIC   Round <span style=\"color: #000080; font-weight: bold\">4</span>, collaborator env_one train result loss:        <span style=\"color: #000080; font-weight: bold\">0.691996</span>                                                           <a href=\"file:///home/viktorii/ViktoriiaRomanova/openfl/interface/interactive_api/experiment.py\"><span style=\"color: #7f7f7f\">experiment.py</span></a><span style=\"color: #7f7f7f\">:111</span>\n",
       "</pre>\n"
      ],
      "text/plain": [
       "<rich.jupyter.JupyterRenderable at 0x7fa95a4a98e0>"
      ]
     },
     "metadata": {},
     "output_type": "display_data"
    },
    {
     "data": {
      "text/html": [
       "<pre style=\"white-space:pre;overflow-x:auto;line-height:normal;font-family:Menlo,'DejaVu Sans Mono',consolas,'Courier New',monospace\"><span style=\"color: #7fbfbf\">           </span>METRIC   Round <span style=\"color: #000080; font-weight: bold\">4</span>, collaborator env_one train result accuracy:    <span style=\"color: #000080; font-weight: bold\">0.511545</span>                                                           <a href=\"file:///home/viktorii/ViktoriiaRomanova/openfl/interface/interactive_api/experiment.py\"><span style=\"color: #7f7f7f\">experiment.py</span></a><span style=\"color: #7f7f7f\">:111</span>\n",
       "</pre>\n"
      ],
      "text/plain": [
       "<rich.jupyter.JupyterRenderable at 0x7fa95a4a9b80>"
      ]
     },
     "metadata": {},
     "output_type": "display_data"
    },
    {
     "data": {
      "text/html": [
       "<pre style=\"white-space:pre;overflow-x:auto;line-height:normal;font-family:Menlo,'DejaVu Sans Mono',consolas,'Courier New',monospace\"><span style=\"color: #7fbfbf\">[17:33:15] </span>METRIC   Round <span style=\"color: #000080; font-weight: bold\">4</span>, collaborator env_one localy_tuned_model_validate result val_loss:      <span style=\"color: #000080; font-weight: bold\">0.692055</span>                                   <a href=\"file:///home/viktorii/ViktoriiaRomanova/openfl/interface/interactive_api/experiment.py\"><span style=\"color: #7f7f7f\">experiment.py</span></a><span style=\"color: #7f7f7f\">:111</span>\n",
       "</pre>\n"
      ],
      "text/plain": [
       "<rich.jupyter.JupyterRenderable at 0x7fa95a4a9b80>"
      ]
     },
     "metadata": {},
     "output_type": "display_data"
    },
    {
     "data": {
      "text/html": [
       "<pre style=\"white-space:pre;overflow-x:auto;line-height:normal;font-family:Menlo,'DejaVu Sans Mono',consolas,'Courier New',monospace\"><span style=\"color: #7fbfbf\">           </span>METRIC   Round <span style=\"color: #000080; font-weight: bold\">4</span>, collaborator env_one localy_tuned_model_validate result val_accuracy:  <span style=\"color: #000080; font-weight: bold\">0.499219</span>                                   <a href=\"file:///home/viktorii/ViktoriiaRomanova/openfl/interface/interactive_api/experiment.py\"><span style=\"color: #7f7f7f\">experiment.py</span></a><span style=\"color: #7f7f7f\">:111</span>\n",
       "</pre>\n"
      ],
      "text/plain": [
       "<rich.jupyter.JupyterRenderable at 0x7fa95a4a9b80>"
      ]
     },
     "metadata": {},
     "output_type": "display_data"
    },
    {
     "data": {
      "text/html": [
       "<pre style=\"white-space:pre;overflow-x:auto;line-height:normal;font-family:Menlo,'DejaVu Sans Mono',consolas,'Courier New',monospace\"><span style=\"color: #7fbfbf\">[17:33:19] </span>METRIC   Round <span style=\"color: #000080; font-weight: bold\">4</span>, collaborator env_one aggregated_model_validate result val_loss:        <span style=\"color: #000080; font-weight: bold\">0.691523</span>                                   <a href=\"file:///home/viktorii/ViktoriiaRomanova/openfl/interface/interactive_api/experiment.py\"><span style=\"color: #7f7f7f\">experiment.py</span></a><span style=\"color: #7f7f7f\">:111</span>\n",
       "</pre>\n"
      ],
      "text/plain": [
       "<rich.jupyter.JupyterRenderable at 0x7fa95a4a96d0>"
      ]
     },
     "metadata": {},
     "output_type": "display_data"
    },
    {
     "data": {
      "text/html": [
       "<pre style=\"white-space:pre;overflow-x:auto;line-height:normal;font-family:Menlo,'DejaVu Sans Mono',consolas,'Courier New',monospace\"><span style=\"color: #7fbfbf\">           </span>METRIC   Round <span style=\"color: #000080; font-weight: bold\">4</span>, collaborator env_one aggregated_model_validate result val_accuracy:    <span style=\"color: #000080; font-weight: bold\">0.520703</span>                                   <a href=\"file:///home/viktorii/ViktoriiaRomanova/openfl/interface/interactive_api/experiment.py\"><span style=\"color: #7f7f7f\">experiment.py</span></a><span style=\"color: #7f7f7f\">:111</span>\n",
       "</pre>\n"
      ],
      "text/plain": [
       "<rich.jupyter.JupyterRenderable at 0x7fa95a4a9b80>"
      ]
     },
     "metadata": {},
     "output_type": "display_data"
    },
    {
     "data": {
      "text/html": [
       "<pre style=\"white-space:pre;overflow-x:auto;line-height:normal;font-family:Menlo,'DejaVu Sans Mono',consolas,'Courier New',monospace\"><span style=\"color: #7fbfbf\">           </span>METRIC   Round <span style=\"color: #000080; font-weight: bold\">4</span>, collaborator Aggregator aggregated_model_validate result val_loss:     <span style=\"color: #000080; font-weight: bold\">0.691523</span>                                   <a href=\"file:///home/viktorii/ViktoriiaRomanova/openfl/interface/interactive_api/experiment.py\"><span style=\"color: #7f7f7f\">experiment.py</span></a><span style=\"color: #7f7f7f\">:111</span>\n",
       "</pre>\n"
      ],
      "text/plain": [
       "<rich.jupyter.JupyterRenderable at 0x7fa95a4a9ac0>"
      ]
     },
     "metadata": {},
     "output_type": "display_data"
    },
    {
     "data": {
      "text/html": [
       "<pre style=\"white-space:pre;overflow-x:auto;line-height:normal;font-family:Menlo,'DejaVu Sans Mono',consolas,'Courier New',monospace\"><span style=\"color: #7fbfbf\">           </span>METRIC   Round <span style=\"color: #000080; font-weight: bold\">4</span>, collaborator Aggregator aggregated_model_validate result val_accuracy: <span style=\"color: #000080; font-weight: bold\">0.520703</span>                                   <a href=\"file:///home/viktorii/ViktoriiaRomanova/openfl/interface/interactive_api/experiment.py\"><span style=\"color: #7f7f7f\">experiment.py</span></a><span style=\"color: #7f7f7f\">:111</span>\n",
       "</pre>\n"
      ],
      "text/plain": [
       "<rich.jupyter.JupyterRenderable at 0x7fa95a4a9850>"
      ]
     },
     "metadata": {},
     "output_type": "display_data"
    },
    {
     "data": {
      "text/html": [
       "<pre style=\"white-space:pre;overflow-x:auto;line-height:normal;font-family:Menlo,'DejaVu Sans Mono',consolas,'Courier New',monospace\"><span style=\"color: #7fbfbf\">[17:33:26] </span>METRIC   Round <span style=\"color: #000080; font-weight: bold\">4</span>, collaborator Aggregator train result loss:     <span style=\"color: #000080; font-weight: bold\">0.691996</span>                                                           <a href=\"file:///home/viktorii/ViktoriiaRomanova/openfl/interface/interactive_api/experiment.py\"><span style=\"color: #7f7f7f\">experiment.py</span></a><span style=\"color: #7f7f7f\">:111</span>\n",
       "</pre>\n"
      ],
      "text/plain": [
       "<rich.jupyter.JupyterRenderable at 0x7fa95a4a9ee0>"
      ]
     },
     "metadata": {},
     "output_type": "display_data"
    },
    {
     "data": {
      "text/html": [
       "<pre style=\"white-space:pre;overflow-x:auto;line-height:normal;font-family:Menlo,'DejaVu Sans Mono',consolas,'Courier New',monospace\"><span style=\"color: #7fbfbf\">           </span>METRIC   Round <span style=\"color: #000080; font-weight: bold\">4</span>, collaborator Aggregator train result accuracy: <span style=\"color: #000080; font-weight: bold\">0.511545</span>                                                           <a href=\"file:///home/viktorii/ViktoriiaRomanova/openfl/interface/interactive_api/experiment.py\"><span style=\"color: #7f7f7f\">experiment.py</span></a><span style=\"color: #7f7f7f\">:111</span>\n",
       "</pre>\n"
      ],
      "text/plain": [
       "<rich.jupyter.JupyterRenderable at 0x7fa95a4a9f70>"
      ]
     },
     "metadata": {},
     "output_type": "display_data"
    },
    {
     "data": {
      "text/html": [
       "<pre style=\"white-space:pre;overflow-x:auto;line-height:normal;font-family:Menlo,'DejaVu Sans Mono',consolas,'Courier New',monospace\"><span style=\"color: #7fbfbf\">           </span>METRIC   Round <span style=\"color: #000080; font-weight: bold\">4</span>, collaborator Aggregator localy_tuned_model_validate result val_loss:   <span style=\"color: #000080; font-weight: bold\">0.692055</span>                                   <a href=\"file:///home/viktorii/ViktoriiaRomanova/openfl/interface/interactive_api/experiment.py\"><span style=\"color: #7f7f7f\">experiment.py</span></a><span style=\"color: #7f7f7f\">:111</span>\n",
       "</pre>\n"
      ],
      "text/plain": [
       "<rich.jupyter.JupyterRenderable at 0x7fa95a4a9a60>"
      ]
     },
     "metadata": {},
     "output_type": "display_data"
    },
    {
     "data": {
      "text/html": [
       "<pre style=\"white-space:pre;overflow-x:auto;line-height:normal;font-family:Menlo,'DejaVu Sans Mono',consolas,'Courier New',monospace\"><span style=\"color: #7fbfbf\">           </span>METRIC   Round <span style=\"color: #000080; font-weight: bold\">4</span>, collaborator Aggregator localy_tuned_model_validate result val_accuracy:       <span style=\"color: #000080; font-weight: bold\">0.499219</span>                           <a href=\"file:///home/viktorii/ViktoriiaRomanova/openfl/interface/interactive_api/experiment.py\"><span style=\"color: #7f7f7f\">experiment.py</span></a><span style=\"color: #7f7f7f\">:111</span>\n",
       "</pre>\n"
      ],
      "text/plain": [
       "<rich.jupyter.JupyterRenderable at 0x7fa95a4a9e50>"
      ]
     },
     "metadata": {},
     "output_type": "display_data"
    }
   ],
   "source": [
    "# If user want to stop IPython session, then reconnect and check how experiment is going\n",
    "# fl_experiment.restore_experiment_state(MI)\n",
    "\n",
    "fl_experiment.stream_metrics()"
   ]
  }
 ],
 "metadata": {
  "interpreter": {
   "hash": "9967838c9b78b23db9544bb47605a6e8593c36ad0f41631a68de5734b7160f0f"
  },
  "kernelspec": {
   "display_name": "Python 3.8.9 64-bit ('openfl_Kvasir': venv)",
   "name": "python3"
  },
  "language_info": {
   "codemirror_mode": {
    "name": "ipython",
    "version": 3
   },
   "file_extension": ".py",
   "mimetype": "text/x-python",
   "name": "python",
   "nbconvert_exporter": "python",
   "pygments_lexer": "ipython3",
   "version": "3.8.10"
  },
  "orig_nbformat": 4
 },
 "nbformat": 4,
 "nbformat_minor": 2
}
